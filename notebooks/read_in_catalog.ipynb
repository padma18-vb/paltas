{
 "cells": [
  {
   "cell_type": "code",
   "execution_count": 25,
   "metadata": {},
   "outputs": [],
   "source": [
    "import os\n",
    "import paltas\n",
    "from astropy.visualization import simple_norm\n",
    "import visualization_utils\n",
    "from paltas import generate\n",
    "import numpy as np\n",
    "import matplotlib.pyplot as plt\n",
    "import pandas as pd\n",
    "import matplotlib.colors as colors\n",
    "\n",
    "SMALL_SIZE = 16\n",
    "MEDIUM_SIZE = 18\n",
    "BIGGER_SIZE = 20\n",
    "\n",
    "\n",
    "plt.rc('font', size=SMALL_SIZE)          # controls default text sizes\n",
    "plt.rc('axes', titlesize=BIGGER_SIZE)    # fontsize of the axes title\n",
    "plt.rc('axes', labelsize=MEDIUM_SIZE)    # fontsize of the x and y labels\n",
    "plt.rc('xtick', labelsize=SMALL_SIZE)    # fontsize of the tick labels\n",
    "plt.rc('ytick', labelsize=SMALL_SIZE)    # fontsize of the tick labels\n",
    "plt.rc('legend', fontsize=SMALL_SIZE)    # legend fontsize\n",
    "plt.rc('figure', titlesize=BIGGER_SIZE)  # fontsize of the figure title\n",
    "\n",
    "%matplotlib inline\n",
    "root_path = paltas.__path__[0][:-7]\n",
    "import re"
   ]
  },
  {
   "cell_type": "code",
   "execution_count": 26,
   "metadata": {},
   "outputs": [
    {
     "data": {
      "text/plain": [
       "'/Users/padmavenkatraman/Documents/StrongLensing/paltas'"
      ]
     },
     "execution_count": 26,
     "metadata": {},
     "output_type": "execute_result"
    }
   ],
   "source": [
    "root_path"
   ]
  },
  {
   "cell_type": "code",
   "execution_count": 15,
   "metadata": {},
   "outputs": [
    {
     "name": "stdout",
     "output_type": "stream",
     "text": [
      "The autoreload extension is already loaded. To reload it, use:\n",
      "  %reload_ext autoreload\n"
     ]
    }
   ],
   "source": [
    "%load_ext autoreload\n",
    "%autoreload 2"
   ]
  },
  {
   "cell_type": "code",
   "execution_count": 16,
   "metadata": {},
   "outputs": [],
   "source": [
    "config_file = 'config_LSST_catalog'"
   ]
  },
  {
   "cell_type": "markdown",
   "metadata": {},
   "source": [
    "#### change config file -- add necessary columns"
   ]
  },
  {
   "cell_type": "code",
   "execution_count": 17,
   "metadata": {},
   "outputs": [],
   "source": [
    "lens = pd.read_csv('data/deflectors.csv', index_col=0)\n",
    "agn = pd.read_csv('data/sources.csv', index_col=0)"
   ]
  },
  {
   "cell_type": "code",
   "execution_count": 18,
   "metadata": {},
   "outputs": [],
   "source": [
    "# def phi():\n",
    "# \treturn deflectors.loc[index,'PHIE']* np.pi / 180\n",
    "# def q_mass():\n",
    "# \treturn 1/ (1 - deflectors.loc[index,'ELLIP'])\n",
    "# def q_light():\n",
    "# \treturn (1 - deflectors.loc[index,'ellipticity_true'])/(1 + deflectors.loc[index,'ellipticity_true'])\n",
    "# def q_source_light():\t\n",
    "# \treturn 1 - sources.loc[index,'ellipticity_true']\n",
    "\n",
    "# 'cross_object':{\n",
    "# \t'parameters':{\n",
    "# \t\t('main_deflector:e1,main_deflector:e2'):[dist.EllipticitiesTranslation, q_mass, phi],\n",
    "# \t\t('main_deflector:gamma1,main_deflector:gamma2'):[dist.ExternalShearTranslation, 'GAMMA','PHIG'],\n",
    "# \t\t('lens_light:e1,lens_light:e2'): [dist.EllipticitiesTranslation, q_light, phi],\n",
    "# \t\t('source:e1,source:e2'): [dist.EllipticitiesTranslation, q_source_light, 'phi']\n",
    "# \t}\n",
    "# },\n",
    "\n",
    "# e1 = (1 - q)/(1+q) * np.cos(2*phi)\n",
    "# e2 = (1 - q)/(1+q) * np.sin(2*phi)\n",
    "\n",
    "# gamma1 = gamma * np.cos(2*phi)\n",
    "# gamma2 = gamma * np.sin(2*phi)"
   ]
  },
  {
   "cell_type": "code",
   "execution_count": 19,
   "metadata": {},
   "outputs": [],
   "source": [
    "\n",
    "\n",
    "# # Lens\n",
    "# qmasslens= 1/ (1 - lens['ELLIP'])\n",
    "# phimasslens = lens['PHIE'] * np.pi/180\n",
    "# lens = lens.assign(e1_mass=(1 - qmasslens)/(1+qmasslens) * np.cos(2*phimasslens))\n",
    "# lens = lens.assign(e2_mass=(1 - qmasslens)/(1+qmasslens) * np.sin(2*phimasslens))\n",
    "\n",
    "# qlightlens = (1 - lens['ellipticity_true'])/(1 + lens['ellipticity_true'])\n",
    "# philightlens = phimasslens\n",
    "\n",
    "# gamma = lens['GAMMA']\n",
    "# phig = lens['PHIG'] * np.pi/180\n",
    "\n",
    "\n",
    "# lens = lens.assign(e1_light=(1 - qlightlens)/(1+qlightlens) * np.cos(2*philightlens))\n",
    "# lens = lens.assign(e2_light=(1 - qlightlens)/(1+qlightlens) * np.sin(2*philightlens))\n",
    "# lens = lens.assign(gamma1 = gamma*np.cos(2*phig))\n",
    "# lens = lens.assign(gamma2 = gamma*np.sin(2*phig))\n",
    "# # source\n",
    "\n",
    "# qagn = (1 - agn['ellipticity_true'])/(1 + agn['ellipticity_true'])\n",
    "# phiagn = agn['phi']\n",
    "\n",
    "\n",
    "# agn = agn.assign(e1_light=(1 - qagn)/(1+qagn) * np.cos(2*phiagn))\n",
    "# agn = agn.assign(e2_light=(1 - qagn)/(1+qagn) * np.sin(2*phiagn))"
   ]
  },
  {
   "cell_type": "code",
   "execution_count": 20,
   "metadata": {},
   "outputs": [],
   "source": [
    "# agn.to_csv(\"data/sources.csv\")\n",
    "# lens.to_csv(\"data/deflectors.csv\")"
   ]
  },
  {
   "cell_type": "code",
   "execution_count": 23,
   "metadata": {},
   "outputs": [
    {
     "name": "stdout",
     "output_type": "stream",
     "text": [
      "here! 7\n",
      "{'compute_time_delays': False, 'mag_app': 24.45, 'output_ab_zeropoint': 27, 'x_point_source': 0.001668022, 'y_point_source': 0.1348162, 'z_point_source': 2.92, 'z_source': 2.8909001} ('x_point_source', 'y_point_source', 'output_ab_zeropoint', 'compute_time_delays', 'z_point_source')\n",
      "kwargs_model:  {'lens_model_list': ['EPL_NUMBA', 'SHEAR'], 'lens_redshift_list': [0.288, 0.288], 'lens_light_model_list': ['SERSIC_ELLIPSE'], 'point_source_model_list': ['SOURCE_POSITION'], 'source_light_model_list': ['SERSIC_ELLIPSE'], 'source_redshift_list': [2.8909001], 'multi_plane': False, 'z_source': 2.8909001, 'z_source_convention': 2.8909001}\n",
      "kwargs_params:  {'kwargs_lens': [{'theta_E': 1.2867780357033276, 'gamma': 2, 'e1': -0.0096412334767852, 'e2': -0.2049893071605179, 'center_x': 0, 'center_y': 0}, {'gamma1': 0.0061257626863061, 'gamma2': -0.0329730928494, 'ra_0': 0.0, 'dec_0': 0.0}], 'kwargs_lens_light': [{'R_sersic': 0.73001415, 'center_x': 0, 'center_y': 0, 'e1': 0.0154690219556061, 'e2': 0.3288981747787596, 'n_sersic': 4.0, 'amp': 222.5210161800147}], 'kwargs_ps': [{'ra_source': 0.001668022, 'dec_source': 0.1348162, 'source_amp': 10.471285480509001}], 'kwargs_source': [{'R_sersic': 0.63604903, 'center_x': 0.001668022, 'center_y': 0.1348162, 'e1': 0.0328931071818085, 'e2': -0.0388680973964825, 'n_sersic': 4.0, 'amp': 0.2738635551913487}]}\n",
      "inputs to PointSource:\n",
      "point_source_type_list,\n",
      "lens_model=None,\n",
      "fixed_magnification_list=None\n",
      " additional_images_list=None,\n",
      "flux_from_point_source_list=None,\n",
      "magnification_limit=None\n",
      " save_cache=False,\n",
      "kwargs_lens_eqn_solver=None,\n",
      "index_lens_model_list=None,\n",
      "point_source_frame_list=None\n",
      "--------------\n",
      "point_source_type_list: kwargs_model['point_source_model_list']:  ['SOURCE_POSITION']\n",
      "lens_model:  <lenstronomy.LensModel.lens_model.LensModel object at 0x294285790>\n",
      "save_cache:  True\n",
      "kwargs_lens_eqn_solver:  None\n",
      "fixed_magnification_list:  [True]\n",
      "ra_array:  [0.7250847399578082, -1.2853293622203634, -1.2492765207756453, 0.5468425177878443]\n",
      "dec_array:  [1.218696894471661, 0.10325448705095552, 0.34631176992199175, -0.9610175285623249]\n",
      "amp_array:  [47.067441341931385, 335.97650282355903, 318.46807302895337, 30.114894398271392]\n",
      "([[0.7250847399578082, -1.2853293622203634, -1.2492765207756453, 0.5468425177878443]], [[1.218696894471661, 0.10325448705095552, 0.34631176992199175, -0.9610175285623249]], [[4.494905752454327, 32.085506927390874, 30.41346486271835, 2.8759500879167637]], 1)\n",
      "flux_scaling:  1\n"
     ]
    }
   ],
   "source": [
    "\n",
    "from paltas.Configs.config_handler import ConfigHandler\n",
    "\n",
    "# We'll pass one of our example Configs in\n",
    "config_handler = ConfigHandler(os.path.join(root_path,f'{config_file}.py'))\n",
    "config_handler.index = 7\n",
    "\n",
    "# First let's get the lenstronomy model lists, kwargs lists, and redshift lists.\n",
    "kwargs_model, kwargs_params = config_handler.get_lenstronomy_models_kwargs(new_sample=False)\n",
    "\n",
    "# # We can see what keys are returned, and inspect the lens models in particular\n",
    "# print('Available Keys:')\n",
    "# print(kwargs_model.keys())\n",
    "\n",
    "# print(kwargs_params.keys())\n",
    "# print('')\n",
    "\n",
    "# print('lens_model_list')\n",
    "# print(kwargs_model['lens_model_list'])\n",
    "# print('kwargs_lens')\n",
    "# print(kwargs_params['kwargs_lens'])\n",
    "img401, dict401 = config_handler.draw_image(new_sample=False)"
   ]
  },
  {
   "cell_type": "code",
   "execution_count": 24,
   "metadata": {},
   "outputs": [
    {
     "data": {
      "image/png": "[encoded data removed]",
      "text/plain": [
       "<Figure size 640x480 with 2 Axes>"
      ]
     },
     "metadata": {},
     "output_type": "display_data"
    }
   ],
   "source": [
    "fig, ax = plt.subplots()\n",
    "ax_pix = ax.imshow(img401, norm=simple_norm(img401, stretch=\"asinh\", min_cut=1e-16, asinh_a=0.1), origin='lower');\n",
    "cbar = fig.colorbar(ax_pix, fraction=0.046)\n",
    "cbar.ax.tick_params(labelsize=10)\n",
    "plt.suptitle(\n",
    "    f'Deflector = {np.round(dict401[\"lens_light_parameters_mag_app\"],2)}; Host = {np.round(dict401[\"source_parameters_mag_app\"],2)}; Quasar = {dict401[\"point_source_parameters_mag_app\"]}\\nPaltas',\n",
    "    y=1.05,\n",
    ");"
   ]
  },
  {
   "cell_type": "code",
   "execution_count": 12,
   "metadata": {},
   "outputs": [
    {
     "data": {
      "text/plain": [
       "{'main_deflector_parameters_center_x': 0,\n",
       " 'main_deflector_parameters_center_y': 0,\n",
       " 'main_deflector_parameters_dec_0': 0.0,\n",
       " 'main_deflector_parameters_e1': 0.0791100595795193,\n",
       " 'main_deflector_parameters_e2': -0.110865641123596,\n",
       " 'main_deflector_parameters_gamma': 2,\n",
       " 'main_deflector_parameters_gamma1': -0.1070143318987866,\n",
       " 'main_deflector_parameters_gamma2': -0.0150927981440268,\n",
       " 'main_deflector_parameters_ra_0': 0.0,\n",
       " 'main_deflector_parameters_theta_E': 0.6719367398544195,\n",
       " 'main_deflector_parameters_z_lens': 0.144,\n",
       " 'source_parameters_R_sersic': 1.0071628,\n",
       " 'source_parameters_center_x': 0.1273427,\n",
       " 'source_parameters_center_y': 0.04637452,\n",
       " 'source_parameters_e1': 0.0044209996080733,\n",
       " 'source_parameters_e2': 0.0024086860133642,\n",
       " 'source_parameters_mag_app': 22.49274,\n",
       " 'source_parameters_n_sersic': 4.0,\n",
       " 'source_parameters_output_ab_zeropoint': 27,\n",
       " 'source_parameters_z_source': 1.5917828,\n",
       " 'lens_light_parameters_R_sersic': 1.4456719,\n",
       " 'lens_light_parameters_center_x': 0,\n",
       " 'lens_light_parameters_center_y': 0,\n",
       " 'lens_light_parameters_e1': -0.1527891805439855,\n",
       " 'lens_light_parameters_e2': 0.2141203097026,\n",
       " 'lens_light_parameters_mag_app': 17.6485462,\n",
       " 'lens_light_parameters_n_sersic': 4.0,\n",
       " 'lens_light_parameters_output_ab_zeropoint': 27,\n",
       " 'lens_light_parameters_z_source': 1.73,\n",
       " 'point_source_parameters_compute_time_delays': 0,\n",
       " 'point_source_parameters_mag_app': 20.85,\n",
       " 'point_source_parameters_output_ab_zeropoint': 27,\n",
       " 'point_source_parameters_x_point_source': 0.1273427,\n",
       " 'point_source_parameters_y_point_source': 0.04637452,\n",
       " 'point_source_parameters_z_point_source': 1.73,\n",
       " 'point_source_parameters_z_source': 1.5917828,\n",
       " 'cosmology_parameters_cosmology_name': 'planck18',\n",
       " 'psf_parameters_point_source_supersampling_factor': 1,\n",
       " 'psf_parameters_psf_type': 'PIXEL',\n",
       " 'detector_parameters_background_noise': None,\n",
       " 'detector_parameters_ccd_gain': 2.3,\n",
       " 'detector_parameters_exposure_time': 15,\n",
       " 'detector_parameters_magnitude_zero_point': 27,\n",
       " 'detector_parameters_num_exposures': 30,\n",
       " 'detector_parameters_pixel_scale': 0.2,\n",
       " 'detector_parameters_read_noise': 10,\n",
       " 'detector_parameters_sky_brightness': 20.48,\n",
       " 'point_source_parameters_num_images': 2,\n",
       " 'point_source_parameters_lens_ps_offset': 0.13552401760765656,\n",
       " 'point_source_parameters_x_image_0': 0.4128286714377308,\n",
       " 'point_source_parameters_y_image_0': 0.7279094612229178,\n",
       " 'point_source_parameters_magnification_0': 3.1510541040420597,\n",
       " 'point_source_parameters_x_image_1': -0.47330860377821204,\n",
       " 'point_source_parameters_y_image_1': -0.0025354006906007087,\n",
       " 'point_source_parameters_magnification_1': -1.4531963753671624,\n",
       " 'point_source_parameters_x_image_2': nan,\n",
       " 'point_source_parameters_y_image_2': nan,\n",
       " 'point_source_parameters_magnification_2': nan,\n",
       " 'point_source_parameters_x_image_3': nan,\n",
       " 'point_source_parameters_y_image_3': nan,\n",
       " 'point_source_parameters_magnification_3': nan,\n",
       " 'seed': 4190074023}"
      ]
     },
     "execution_count": 12,
     "metadata": {},
     "output_type": "execute_result"
    }
   ],
   "source": [
    "dict401"
   ]
  },
  {
   "cell_type": "code",
   "execution_count": 12,
   "metadata": {},
   "outputs": [],
   "source": [
    "# list_results = []\n",
    "# for i in range(3):\n",
    "#     config_handler.draw_new_sample()\n",
    "#     sample = config_handler.sample\n",
    "#     list_results.append(sample)"
   ]
  },
  {
   "cell_type": "code",
   "execution_count": 13,
   "metadata": {},
   "outputs": [
    {
     "name": "stderr",
     "output_type": "stream",
     "text": [
      "/Users/padmavenkatraman/Documents/StrongLensing/silver/lib/python3.11/site-packages/numba/core/decorators.py:262: NumbaDeprecationWarning: numba.generated_jit is deprecated. Please see the documentation at: https://numba.readthedocs.io/en/stable/reference/deprecation.html#deprecation-of-generated-jit for more information and advice on a suitable replacement.\n",
      "  warnings.warn(msg, NumbaDeprecationWarning)\n"
     ]
    },
    {
     "name": "stdout",
     "output_type": "stream",
     "text": [
      "Save folder path: generated_images/om10/config_LSST_catalog\n",
      "here! 401\n",
      "{'compute_time_delays': False, 'mag_app': 21.45, 'output_ab_zeropoint': 27, 'x_point_source': 0.7952452, 'y_point_source': -0.4164698, 'z_point_source': 2.39, 'z_source': 2.3467846} ('x_point_source', 'y_point_source', 'output_ab_zeropoint', 'compute_time_delays', 'z_point_source')\n"
     ]
    },
    {
     "name": "stderr",
     "output_type": "stream",
     "text": [
      "  0%|          | 0/1 [00:00<?, ?it/s]"
     ]
    },
    {
     "name": "stdout",
     "output_type": "stream",
     "text": [
      "here! 401\n",
      "kwargs_model:  {'lens_model_list': ['EPL_NUMBA', 'SHEAR'], 'lens_redshift_list': [0.478, 0.478], 'lens_light_model_list': ['SERSIC_ELLIPSE'], 'point_source_model_list': ['SOURCE_POSITION'], 'source_light_model_list': ['SERSIC_ELLIPSE'], 'source_redshift_list': [2.3467846], 'multi_plane': False, 'z_source': 2.3467846, 'z_source_convention': 2.3467846}\n",
      "kwargs_params:  {'kwargs_lens': [{'theta_E': 1.165897431928425, 'gamma': 2, 'e1': 0.0184897848420481, 'e2': -0.0413952799225546, 'center_x': 0, 'center_y': 0}, {'gamma1': -0.0482579997249181, 'gamma2': -0.0340332432959217, 'ra_0': 0.0, 'dec_0': 0.0}], 'kwargs_lens_light': [{'R_sersic': 0.9856105, 'center_x': 0, 'center_y': 0, 'e1': -0.0303183002651838, 'e2': 0.0678771839139652, 'n_sersic': 4.0, 'amp': 39.337731158487465}], 'kwargs_ps': [{'ra_source': 0.7952452, 'dec_source': -0.4164698, 'source_amp': 165.95869074375614}], 'kwargs_source': [{'R_sersic': 0.29780316, 'center_x': 0.7952452, 'center_y': -0.4164698, 'e1': 0.0214730354079698, 'e2': -0.0160983653058556, 'n_sersic': 4.0, 'amp': 13.660796676593995}]}\n",
      "inputs to PointSource:\n",
      "point_source_type_list,\n",
      "lens_model=None,\n",
      "fixed_magnification_list=None\n",
      " additional_images_list=None,\n",
      "flux_from_point_source_list=None,\n",
      "magnification_limit=None\n",
      " save_cache=False,\n",
      "kwargs_lens_eqn_solver=None,\n",
      "index_lens_model_list=None,\n",
      "point_source_frame_list=None\n",
      "--------------\n",
      "point_source_type_list: kwargs_model['point_source_model_list']:  ['SOURCE_POSITION']\n",
      "lens_model:  <lenstronomy.LensModel.lens_model.LensModel object at 0x16bbcad50>\n",
      "save_cache:  True\n",
      "kwargs_lens_eqn_solver:  None\n",
      "fixed_magnification_list:  [True]\n",
      "Dataset generation complete. Acceptance rate: 1.000\n",
      "Saving 1 files into the tf record\n"
     ]
    },
    {
     "name": "stderr",
     "output_type": "stream",
     "text": [
      "/Users/padmavenkatraman/Documents/StrongLensing/paltas/paltas/Configs/config_handler.py:366: RuntimeWarning: Parameter (psf_parameters, kernel_point_source) in config_dict, and possibly others, will not be written to metadata.csv\n",
      "  warnings.warn(\n",
      "100%|██████████| 1/1 [00:00<00:00,  2.84it/s]\n",
      "100%|██████████| 1/1 [00:00<00:00, 1049.10it/s]\n"
     ]
    },
    {
     "data": {
      "text/plain": [
       "0"
      ]
     },
     "execution_count": 13,
     "metadata": {},
     "output_type": "execute_result"
    }
   ],
   "source": [
    "os.system(command = f'python3 ../paltas/generate.py {config_file}.py generated_images/om10/{config_file} --n 1 --tf_record')\n"
   ]
  },
  {
   "cell_type": "code",
   "execution_count": 193,
   "metadata": {},
   "outputs": [],
   "source": [
    "# psf_kernels = np.load('data/norm_resize_psf.npy', mmap_mode='r+')\n",
    "# random_psf_index = np.random.randint(psf_kernels.shape[0])\n",
    "\n",
    "# psf_kernels.shape\n"
   ]
  },
  {
   "cell_type": "code",
   "execution_count": 194,
   "metadata": {},
   "outputs": [],
   "source": [
    "# mask = psf_kernels[:, ...]<0\n",
    "# mask\n"
   ]
  },
  {
   "cell_type": "code",
   "execution_count": 195,
   "metadata": {},
   "outputs": [],
   "source": [
    "# psf_kernels_copy = psf_kernels.copy()\n",
    "# psf_kernels_copy[mask] =0"
   ]
  },
  {
   "cell_type": "markdown",
   "metadata": {},
   "source": [
    "### psf gallery -- how do kernel psfs differ from gaussian?"
   ]
  },
  {
   "cell_type": "code",
   "execution_count": 196,
   "metadata": {},
   "outputs": [],
   "source": [
    "# np.save(file='data/norm_resize_psf_no_zero.npy', arr=psf_kernels_copy)"
   ]
  },
  {
   "cell_type": "code",
   "execution_count": 159,
   "metadata": {},
   "outputs": [],
   "source": [
    "# # a gallery of psfs\n",
    "# fig,ax=plt.subplots(2, 5, figsize=(14, 5))\n",
    "# ax=ax.flatten()\n",
    "# for i in range(1,11):\n",
    "#     ax[i-1].imshow(psf_kernels_copy[0, :, :], norm=colors.AsinhNorm(linear_width=i/10))\n",
    "#     ax[i-1].axis('off')\n"
   ]
  },
  {
   "cell_type": "code",
   "execution_count": 14,
   "metadata": {},
   "outputs": [
    {
     "data": {
      "text/plain": [
       "['generated_images/om10/config_LSST_catalog/image_0000000.npy']"
      ]
     },
     "execution_count": 14,
     "metadata": {},
     "output_type": "execute_result"
    }
   ],
   "source": [
    "file_list = [os.path.join(f'generated_images/om10/{config_file}', i) for i in os.listdir(f'generated_images/om10/{config_file}')]\n",
    "img_list = [i for i in file_list if i[-3:] =='npy']\n",
    "img_list"
   ]
  },
  {
   "cell_type": "code",
   "execution_count": 15,
   "metadata": {},
   "outputs": [],
   "source": [
    "from astropy.visualization import simple_norm\n",
    "\n"
   ]
  },
  {
   "cell_type": "code",
   "execution_count": 20,
   "metadata": {},
   "outputs": [
    {
     "data": {
      "text/plain": [
       "<matplotlib.image.AxesImage at 0x17bd4cf10>"
      ]
     },
     "execution_count": 20,
     "metadata": {},
     "output_type": "execute_result"
    },
    {
     "data": {
      "image/png": "[encoded data removed]",
      "text/plain": [
       "<Figure size 640x480 with 1 Axes>"
      ]
     },
     "metadata": {},
     "output_type": "display_data"
    }
   ],
   "source": [
    "img = np.load(img_list[0])\n",
    "plt.imshow(img, norm=simple_norm(img, stretch=\"asinh\", min_cut=1e-16, asinh_a=0.1), origin='lower')"
   ]
  },
  {
   "cell_type": "code",
   "execution_count": 37,
   "metadata": {},
   "outputs": [],
   "source": [
    "# # indices = [1750, 2248, 401, 1939, 1939, 1066, 2453, 1959,743,2685,438]\n",
    "# for j in [1, 5, 10, 20, 40, 60]:\n",
    "#     fig,ax=plt.subplots(2, 5, figsize=(24, 10))\n",
    "#     ax=ax.flatten()\n",
    "#     for i in range(10):\n",
    "#         ax[i].imshow(np.load(img_list[i]), norm=colors.AsinhNorm(linear_width=j))\n",
    "#         ax[i].axis('off');\n",
    "#         # ax[i].set_title(indices[i])\n",
    "#     fig.suptitle(f'asinh stretch = {j}')\n",
    "#     plt.show()"
   ]
  },
  {
   "cell_type": "code",
   "execution_count": 18,
   "metadata": {},
   "outputs": [],
   "source": [
    "df = pd.read_csv('generated_images/om10/config_LSST_catalog/metadata.csv')"
   ]
  },
  {
   "cell_type": "code",
   "execution_count": 19,
   "metadata": {},
   "outputs": [
    {
     "data": {
      "text/plain": [
       "lens_light_parameters_R_sersic                        0.98561\n",
       "lens_light_parameters_center_x                              0\n",
       "lens_light_parameters_center_y                              0\n",
       "lens_light_parameters_e1                            -0.030318\n",
       "lens_light_parameters_e2                             0.067877\n",
       "lens_light_parameters_mag_app                       19.656071\n",
       "lens_light_parameters_n_sersic                            4.0\n",
       "lens_light_parameters_output_ab_zeropoint                  27\n",
       "lens_light_parameters_z_source                           2.39\n",
       "main_deflector_parameters_center_x                          0\n",
       "main_deflector_parameters_center_y                          0\n",
       "main_deflector_parameters_dec_0                           0.0\n",
       "main_deflector_parameters_e1                          0.01849\n",
       "main_deflector_parameters_e2                        -0.041395\n",
       "main_deflector_parameters_gamma                             2\n",
       "main_deflector_parameters_gamma1                    -0.048258\n",
       "main_deflector_parameters_gamma2                    -0.034033\n",
       "main_deflector_parameters_ra_0                            0.0\n",
       "main_deflector_parameters_theta_E                    1.165897\n",
       "main_deflector_parameters_z_lens                        0.478\n",
       "point_source_parameters_compute_time_delays                 0\n",
       "point_source_parameters_lens_ps_offset               0.897698\n",
       "point_source_parameters_mag_app                         21.45\n",
       "point_source_parameters_magnification_0              2.398173\n",
       "point_source_parameters_magnification_1             -0.257848\n",
       "point_source_parameters_magnification_2                   NaN\n",
       "point_source_parameters_magnification_3                   NaN\n",
       "point_source_parameters_num_images                          2\n",
       "point_source_parameters_output_ab_zeropoint                27\n",
       "point_source_parameters_x_image_0                    1.688679\n",
       "point_source_parameters_x_image_1                   -0.222552\n",
       "point_source_parameters_x_image_2                         NaN\n",
       "point_source_parameters_x_image_3                         NaN\n",
       "point_source_parameters_x_point_source               0.795245\n",
       "point_source_parameters_y_image_0                   -1.198434\n",
       "point_source_parameters_y_image_1                    0.114195\n",
       "point_source_parameters_y_image_2                         NaN\n",
       "point_source_parameters_y_image_3                         NaN\n",
       "point_source_parameters_y_point_source               -0.41647\n",
       "point_source_parameters_z_point_source                   2.39\n",
       "point_source_parameters_z_source                     2.346785\n",
       "psf_parameters_point_source_supersampling_factor            1\n",
       "psf_parameters_psf_type                                 PIXEL\n",
       "seed                                                157164547\n",
       "source_parameters_R_sersic                           0.297803\n",
       "source_parameters_center_x                           0.795245\n",
       "source_parameters_center_y                           -0.41647\n",
       "source_parameters_e1                                 0.021473\n",
       "source_parameters_e2                                -0.016098\n",
       "source_parameters_mag_app                           23.403284\n",
       "source_parameters_n_sersic                                4.0\n",
       "source_parameters_output_ab_zeropoint                      27\n",
       "source_parameters_z_source                           2.346785\n",
       "Name: 0, dtype: object"
      ]
     },
     "execution_count": 19,
     "metadata": {},
     "output_type": "execute_result"
    }
   ],
   "source": [
    "df.iloc[0, 9:]"
   ]
  },
  {
   "cell_type": "code",
   "execution_count": null,
   "metadata": {},
   "outputs": [],
   "source": []
  }
 ],
 "metadata": {
  "kernelspec": {
   "display_name": "silver",
   "language": "python",
   "name": "python3"
  },
  "language_info": {
   "codemirror_mode": {
    "name": "ipython",
    "version": 3
   },
   "file_extension": ".py",
   "mimetype": "text/x-python",
   "name": "python",
   "nbconvert_exporter": "python",
   "pygments_lexer": "ipython3",
   "version": "3.11.4"
  }
 },
 "nbformat": 4,
 "nbformat_minor": 2
}
