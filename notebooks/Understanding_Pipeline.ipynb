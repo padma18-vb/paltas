{
 "cells": [
  {
   "cell_type": "code",
   "execution_count": null,
   "metadata": {},
   "outputs": [],
   "source": [
    "from paltas.Sources.source_base import SourceBase"
   ]
  },
  {
   "cell_type": "markdown",
   "metadata": {},
   "source": [
    "# Understanding the Paltas Pipeline\n",
    "\n",
    "__Author:__ Sebastian Wagner-Carena\n",
    "\n",
    "__Goals:__ \n",
    "\n",
    "1. Understand the basic structure of the `paltas` classes.\n",
    "2. Understand how to modify one of the main components of the `paltas` pipeline by working through an example class that inherits from the `paltas` SourceBase class.\n",
    "\n",
    "### Table of Contents\n",
    "\n",
    "1. [The Basics](#basics) \n",
    "2. [Implementing a New Class](#new_source)"
   ]
  },
  {
   "cell_type": "markdown",
   "metadata": {},
   "source": [
    "## The Basics <a class=\"anchor\" id=\"basics\"></a>"
   ]
  },
  {
   "cell_type": "markdown",
   "metadata": {
    "jp-MarkdownHeadingCollapsed": true,
    "tags": []
   },
   "source": [
    "__Goal: Understand the basic structure of the `paltas` classes.__\n",
    "\n",
    "At a high level, the main deflector, line-of-sight, substructure, source, and point source classes in `paltas` are all built with the same philosophy. They inherit from a base class that implements the functions required by generate.py, and they have a set of required parameters that are a property of the class.\n",
    "\n",
    "To better understand this, let's take a look at a trimmed version of the base class for sources, which can be found in `paltas/Sources/source_base.py`.\n",
    "\n",
    "```\n",
    "class SourceBase:\n",
    "    \"\"\"\n",
    "    Base class for producing lenstronomy LightModel arguments\n",
    "\n",
    "    Args:\n",
    "        cosmology_parameters (str,dict, or colossus.cosmology.Cosmology):\n",
    "            Either a name of colossus cosmology, a dict with 'cosmology name':\n",
    "            name of colossus cosmology, an instance of colussus cosmology, or a\n",
    "            dict with H0 and Om0 ( other parameters will be set to defaults).\n",
    "        source_parameters (dict): dictionary with source-specific parameters\n",
    "    \"\"\"\n",
    "\n",
    "    required_parameters = tuple()\n",
    "\n",
    "    def __init__(self, cosmology_parameters, source_parameters):\n",
    "        self.cosmo = get_cosmology(cosmology_parameters)\n",
    "        self.source_parameters = copy.deepcopy(source_parameters)\n",
    "\n",
    "        # Check that all the required parameters are present\n",
    "        self.check_parameterization(self.__class__.required_parameters)\n",
    "        \n",
    "    ........\n",
    "\n",
    "    def draw_source(self):\n",
    "        \"\"\"Return lenstronomy LightModel names and kwargs\n",
    "\n",
    "        Returns:\n",
    "            (list,list) A list containing the model name(s), and\n",
    "            a list containing the model kwargs dictionaries.\n",
    "        \"\"\"\n",
    "        raise NotImplementedError\n",
    "```\n",
    "\n",
    "All of the source classes used in `paltas` must inherit from this base class, take as input `cosmology_parameters` and `source_parameters`, and implement the function `draw_source`. This is the function that `generate.py` expects to be able to call in order to get the list of `lenstronomy` models and kwargs associated to the source light. Similarly, there is a `required_parameters` property to the class. When the class is initialized, it will check that the `required_parameters` are all present within `source_parameters`. This list is also useful for users that want to know what parameters the class will expect. For this base class there are no required parameters, so the tuple is empty.\n",
    "\n",
    "--------------------"
   ]
  },
  {
   "cell_type": "markdown",
   "metadata": {},
   "source": [
    "## Implementing a New Class <a class=\"anchor\" id=\"new_source\"></a>"
   ]
  },
  {
   "cell_type": "markdown",
   "metadata": {},
   "source": [
    "__Goal: Understand how to modify one of the main components of the `paltas` pipeline by working through an example class that inherits from the `paltas` SourceBase class.__\n",
    "\n",
    "As discussed, Any source class we build for `paltas` needs to inherit from SourceBase to ensure that it interacts correctly with the dataset generation pipeline. One easy but interesting extension we can make is a source consisting of two seperate sersic profiles."
   ]
  },
  {
   "cell_type": "code",
   "execution_count": null,
   "metadata": {},
   "outputs": [],
   "source": [
    "class DoubleSersicSource(SourceBase):\n",
    "    \"\"\"Class to generate single Sersic profile light models\n",
    "\n",
    "    Args:\n",
    "        cosmology_parameters (str,dict, or\n",
    "            colossus.cosmology.cosmology.Cosmology): Either a name\n",
    "            of colossus cosmology, a dict with 'cosmology name': name of\n",
    "            colossus cosmology, an instance of colussus cosmology, or a\n",
    "            dict with H0 and Om0 ( other parameters will be set to defaults).\n",
    "        source_parameters: dictionary with source-specific parameters.\n",
    "    \"\"\"\n",
    "\n",
    "    # These are the required parameters. In this case we need the seven parameters for our two sersic profiles.\n",
    "    required_parameters = ['amp_s1','R_sersic_s1','n_sersic_s1','e1_s1','e2_s1','center_x_s1','center_y_s1',\n",
    "                           'amp_s2','R_sersic_s2','n_sersic_s2','e1_s2','e2_s2','center_x_s2','center_y_s2',\n",
    "                           'z_source']\n",
    "\n",
    "    # Our light model list and light kwargs are fairly simple, so we can pull them straight from our\n",
    "    # source_parameters.\n",
    "    def draw_source(self):\n",
    "        \"\"\"Return lenstronomy LightModel kwargs\n",
    "\n",
    "        Returns:\n",
    "            (list,list) A list containing the model names(s), and\n",
    "                a list containing the model kwargs dictionaries.\n",
    "        \"\"\"\n",
    "        light_model_list = ['SERSIC_ELLIPSE','SERSIC_ELLIPSE']\n",
    "        light_kwargs_list = []\n",
    "        # We can extract the kwargs for our two light models using the suffix\n",
    "        for suffix in ['s1','s2']:\n",
    "            kwargs_dict = {}\n",
    "            for param_name in self.__class__.required_parameters:\n",
    "                if suffix in param_name:\n",
    "                    kwargs_dict[param_name[:-3]] = self.source_parameters[param_name]\n",
    "            light_kwargs_list.append(kwargs_dict)\n",
    "        \n",
    "        return light_model_list, light_kwargs_list"
   ]
  },
  {
   "cell_type": "markdown",
   "metadata": {},
   "source": [
    "For this relatively easy example, all we had to do was add the required parameters and then pull those parameters corectly from the `source_parameters` dict. We could then import `DoubleSersicSource` into a config dict and use it to draw the sources of our training set. "
   ]
  }
 ],
 "metadata": {
  "interpreter": {
   "hash": "9d5618ee9d93179d1442221b64d11b05e1bb41390beb758f1a55b5dbc1cfb010"
  },
  "kernelspec": {
   "display_name": "Python 3",
   "language": "python",
   "name": "python3"
  },
  "language_info": {
   "codemirror_mode": {
    "name": "ipython",
    "version": 3
   },
   "file_extension": ".py",
   "mimetype": "text/x-python",
   "name": "python",
   "nbconvert_exporter": "python",
   "pygments_lexer": "ipython3",
   "version": "3.7.6"
  }
 },
 "nbformat": 4,
 "nbformat_minor": 4
}
