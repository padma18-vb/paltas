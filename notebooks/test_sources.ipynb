{
 "cells": [
  {
   "cell_type": "code",
   "execution_count": null,
   "metadata": {},
   "outputs": [],
   "source": [
    "import numpy as np\n",
    "import matplotlib\n",
    "import matplotlib.pyplot as plt\n",
    "import os\n",
    "import manada\n",
    "import lenstronomy as ls\n",
    "\n",
    "ls.laconic()\n",
    "root_path = manada.__path__[0][:-7]"
   ]
  },
  {
   "cell_type": "markdown",
   "metadata": {},
   "source": [
    "### Load catalog"
   ]
  },
  {
   "cell_type": "code",
   "execution_count": null,
   "metadata": {},
   "outputs": [],
   "source": [
    "# Look for cosmo catalog in the default path\n",
    "cosmos_folder = root_path + '/datasets/cosmos/COSMOS_23.5_training_sample'\n",
    "\n",
    "catalog = manada.Sources.cosmos.COSMOSCatalog(cosmos_folder, cosmology_parameters='planck18')"
   ]
  },
  {
   "cell_type": "markdown",
   "metadata": {},
   "source": [
    "### Image plotting function"
   ]
  },
  {
   "cell_type": "code",
   "execution_count": null,
   "metadata": {},
   "outputs": [],
   "source": [
    "test= catalog.iter_lightmodel_kwargs_samples(5)\n",
    "type(test)"
   ]
  },
  {
   "cell_type": "code",
   "execution_count": null,
   "metadata": {},
   "outputs": [],
   "source": [
    "# Just a nice galaxy image for testing the plot\n",
    "nice_galaxy_i = 20451\n",
    "\n",
    "PIXEL_LENGTH = manada.Sources.cosmos.HUBBLE_ACS_PIXEL_WIDTH\n",
    "\n",
    "def grid_for(img, x0=0, y0=0, edges=True):\n",
    "    nx, ny = img.shape\n",
    "    dx = nx * PIXEL_LENGTH\n",
    "    dy = nx * PIXEL_LENGTH\n",
    "    extra = 1 if edges else 0\n",
    "    x = np.linspace(-dx/2, dx/2, nx + extra) + x0\n",
    "    y = np.linspace(-dy/2, dy/2, ny + extra) + y0\n",
    "    return x, y\n",
    "\n",
    "def show_image(img, vmin=None, **kwargs):\n",
    "    vmax = img.max()\n",
    "    if vmin is None:\n",
    "        vmin = vmax * 1e-3    \n",
    "    plt.pcolormesh(\n",
    "        *grid_for(img),\n",
    "        img.clip(vmin, None).T, \n",
    "        norm=matplotlib.colors.LogNorm(\n",
    "            vmin=vmin, vmax=vmax\n",
    "        ),\n",
    "        **{**{'cmap': plt.cm.magma}, \n",
    "           **kwargs})\n",
    "    plt.gca().set_aspect('equal')\n",
    "    \n",
    "    cbar = plt.colorbar(label='HST F814W', extend='min')\n",
    "    \n",
    "    # Fix colorbar ticks\n",
    "    cax = cbar.ax\n",
    "    # Use normal formatting\n",
    "    cax.yaxis.set_major_formatter(matplotlib.ticker.FormatStrFormatter('%g'))\n",
    "    if len(cbar.get_ticks()) < 2:\n",
    "        # If there are very few ticks, show minor ticks too\n",
    "        cax.yaxis.set_minor_formatter(matplotlib.ticker.FormatStrFormatter('%g'))\n",
    "        cax.tick_params(axis='y', labelsize=7, which='minor')\n",
    "        \n",
    "    plt.xlabel(\"[Arcseconds]\")\n",
    "    plt.ylabel(\"[Arcseconds]\")\n",
    "    \n",
    "show_image(catalog.image_and_metadata(nice_galaxy_i)[0])"
   ]
  },
  {
   "cell_type": "markdown",
   "metadata": {},
   "source": [
    "### Lenstronomy setup"
   ]
  },
  {
   "cell_type": "markdown",
   "metadata": {},
   "source": [
    "Setup all the different models"
   ]
  },
  {
   "cell_type": "code",
   "execution_count": null,
   "metadata": {},
   "outputs": [],
   "source": [
    "lens_model = ls.LensModel_(['SPEP'])\n",
    "light_model = ls.LightModel_(['INTERPOL'])\n",
    "\n",
    "n_pixels = 200\n",
    "pixel_size = PIXEL_LENGTH\n",
    "\n",
    "image_model = ls.ImageModel(\n",
    "    data_class=ls.ImageData(**ls.data_configure_simple(\n",
    "        numPix=n_pixels,\n",
    "        deltaPix=pixel_size)),\n",
    "    psf_class=ls.Data.psf.PSF(\n",
    "        psf_type='GAUSSIAN', \n",
    "        # Very good seeing...\n",
    "        fwhm=0.1 * PIXEL_LENGTH),\n",
    "    lens_model_class=lens_model,\n",
    "    source_model_class=light_model,\n",
    ")"
   ]
  },
  {
   "cell_type": "markdown",
   "metadata": {},
   "source": [
    "## Pass through an image without lensing"
   ]
  },
  {
   "cell_type": "code",
   "execution_count": null,
   "metadata": {},
   "outputs": [],
   "source": [
    "catalog_i = 44542\n",
    "source_image = catalog.image_and_metadata(catalog_i)[0]\n",
    "\n",
    "show_image(source_image)\n",
    "\n",
    "z_old = catalog.catalog[catalog_i]['z']\n",
    "z_old"
   ]
  },
  {
   "cell_type": "code",
   "execution_count": null,
   "metadata": {},
   "outputs": [],
   "source": [
    "# !!! Without this, changes in image arguments will not take effect!\n",
    "light_model.delete_interpol_caches()\n",
    "\n",
    "lens_kwargs = [{'theta_E': 0.0, 'e1': 0., 'e2': 0., 'gamma': 0., 'center_x': 0, 'center_y': 0}]\n",
    "source_kwargs = [catalog.lightmodel_kwargs(catalog_i=catalog_i, z_new=z_old)]\n",
    "\n",
    "image = image_model.image(\n",
    "    kwargs_lens=lens_kwargs, \n",
    "    kwargs_source=source_kwargs)\n",
    "\n",
    "show_image(image)"
   ]
  },
  {
   "cell_type": "markdown",
   "metadata": {},
   "source": [
    "Indeed, it looks like we are passing the image through without changing the scale / units."
   ]
  }
 ],
 "metadata": {
  "kernelspec": {
   "display_name": "Python 3",
   "language": "python",
   "name": "python3"
  },
  "language_info": {
   "codemirror_mode": {
    "name": "ipython",
    "version": 3
   },
   "file_extension": ".py",
   "mimetype": "text/x-python",
   "name": "python",
   "nbconvert_exporter": "python",
   "pygments_lexer": "ipython3",
   "version": "3.7.6"
  }
 },
 "nbformat": 4,
 "nbformat_minor": 4
}
