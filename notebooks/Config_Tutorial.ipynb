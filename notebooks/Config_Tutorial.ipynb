{
 "cells": [
  {
   "cell_type": "code",
   "execution_count": null,
   "metadata": {},
   "outputs": [],
   "source": [
    "import paltas\n",
    "\n",
    "root_path = paltas.__path__[0][:-7]"
   ]
  },
  {
   "cell_type": "markdown",
   "metadata": {},
   "source": [
    "# Understanding the Configuration File\n",
    "\n",
    "__Author:__ Sebastian Wagner-Carena\n",
    "\n",
    "__Goals:__ \n",
    "\n",
    "1. Understand the basic philosophy of the manada configuration file\n",
    "2. Understand how to specify all of the required parameters in a configuration file\n",
    "3. Understand how to implement the optional parameters in a configuration file.\n",
    "\n",
    "### Table of Contents\n",
    "\n",
    "1. [The Basics](#basics)\n",
    "2. [Required Parameters](#required_params) \n",
    "    1. [Source](#source)\n",
    "    2. [Main Deflector](#main_deflector)\n",
    "    3. [Cosmology](#cosmology)\n",
    "    4. [Detector and PSF](#detector)\n",
    "    5. [Numerical Parameters](#num_params)\n",
    "3. [Optional Parameters](#optional_params)\n",
    "    1. [Subhalos](#subhalos)\n",
    "    2. [Line-of-Sight Halos](#los)\n",
    "    3. [Masks and Cuts](#mask_cuts)\n",
    "    4. [Drizzle](#drizzle)\n",
    "    5. [Cross-Object Parameters](#cross_object)\n",
    "    "
   ]
  },
  {
   "cell_type": "markdown",
   "metadata": {},
   "source": [
    "## The Basics <a class=\"anchor\" id=\"basics\"></a>"
   ]
  },
  {
   "cell_type": "markdown",
   "metadata": {},
   "source": [
    "## Required Parameters <a class=\"anchor\" id=\"required_params\"></a>"
   ]
  },
  {
   "cell_type": "markdown",
   "metadata": {},
   "source": [
    "### Source <a class=\"anchor\" id=\"source\"></a>"
   ]
  },
  {
   "cell_type": "markdown",
   "metadata": {},
   "source": [
    "### Main Deflector <a class=\"anchor\" id=\"main_deflector\"></a>"
   ]
  },
  {
   "cell_type": "markdown",
   "metadata": {},
   "source": [
    "### Cosmology <a class=\"anchor\" id=\"cosmology\"></a>"
   ]
  },
  {
   "cell_type": "markdown",
   "metadata": {},
   "source": [
    "### Detector and PSF <a class=\"anchor\" id=\"detector\"></a>"
   ]
  },
  {
   "cell_type": "markdown",
   "metadata": {},
   "source": [
    "### Numerical Parameters <a class=\"anchor\" id=\"num_params\"></a>"
   ]
  },
  {
   "cell_type": "markdown",
   "metadata": {},
   "source": [
    "## Optional Parameters <a class=\"anchor\" id=\"optional_params\"></a>"
   ]
  },
  {
   "cell_type": "markdown",
   "metadata": {},
   "source": [
    "### Subhalos <a class=\"anchor\" id=\"subhalos\"></a>"
   ]
  },
  {
   "cell_type": "markdown",
   "metadata": {},
   "source": [
    "### Line-of-Sight Halos <a class=\"anchor\" id=\"los\"></a>"
   ]
  },
  {
   "cell_type": "markdown",
   "metadata": {},
   "source": [
    "### Masks and Cuts <a class=\"anchor\" id=\"mask_cuts\"></a>"
   ]
  },
  {
   "cell_type": "markdown",
   "metadata": {},
   "source": [
    "### Drizzle <a class=\"anchor\" id=\"drizzle\"></a>"
   ]
  },
  {
   "cell_type": "markdown",
   "metadata": {},
   "source": [
    "### Cross-Object Parameters <a class=\"anchor\" id=\"cross_object\"></a>"
   ]
  }
 ],
 "metadata": {
  "kernelspec": {
   "display_name": "Python 3",
   "language": "python",
   "name": "python3"
  },
  "language_info": {
   "codemirror_mode": {
    "name": "ipython",
    "version": 3
   },
   "file_extension": ".py",
   "mimetype": "text/x-python",
   "name": "python",
   "nbconvert_exporter": "python",
   "pygments_lexer": "ipython3",
   "version": "3.7.6"
  }
 },
 "nbformat": 4,
 "nbformat_minor": 4
}
