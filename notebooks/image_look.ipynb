{
 "cells": [
  {
   "cell_type": "code",
   "execution_count": 117,
   "metadata": {},
   "outputs": [],
   "source": [
    "import h5py\n",
    "import network_predictions\n",
    "import os\n",
    "import matplotlib.pyplot as plt\n",
    "import os\n",
    "import paltas\n",
    "from astropy.visualization import simple_norm\n",
    "import visualization_utils\n",
    "from paltas import generate\n",
    "import numpy as np\n",
    "import pandas as pd\n",
    "import matplotlib.colors as mpc\n",
    "import corner\n",
    "from matplotlib.patches import Patch\n",
    "import astropy.visualization as asviz\n",
    "import tensorflow as tf\n",
    "import paltas.Analysis.dataset_generation as dg\n",
    "\n",
    "import matplotlib\n",
    "SMALL_SIZE = 17\n",
    "MEDIUM_SIZE = 20\n",
    "BIGGER_SIZE = 25\n",
    "\n",
    "\n",
    "plt.rc('font', size=SMALL_SIZE)          # controls default text sizes\n",
    "plt.rc('axes', titlesize=BIGGER_SIZE)    # fontsize of the axes title\n",
    "plt.rc('axes', labelsize=MEDIUM_SIZE)    # fontsize of the x and y labels\n",
    "plt.rc('xtick', labelsize=SMALL_SIZE)    # fontsize of the tick labels\n",
    "plt.rc('ytick', labelsize=SMALL_SIZE)    # fontsize of the tick labels\n",
    "plt.rc('legend', fontsize=SMALL_SIZE)    # legend fontsize\n",
    "plt.rc('figure', titlesize=BIGGER_SIZE)  # fontsize of the figure title\n",
    "\n",
    "%matplotlib inline\n",
    "from IPython.utils import io\n",
    "root_path = paltas.__path__[0][:-7]\n",
    "\n",
    "from mpl_toolkits.axes_grid1 import make_axes_locatable\n"
   ]
  },
  {
   "cell_type": "code",
   "execution_count": 105,
   "metadata": {},
   "outputs": [],
   "source": [
    "path_to_weights = 'NLNORM/model_weights3/_23--1.86_best.h5'\n",
    "path_to_norms = 'generated_images/no_lens/config_LSST/norms.csv'\n",
    "results_folder = 'NLNORM'"
   ]
  },
  {
   "cell_type": "code",
   "execution_count": 106,
   "metadata": {},
   "outputs": [],
   "source": [
    "trained = network_predictions.NetworkPredictions(path_to_model_weights=path_to_weights,\n",
    "                                                 path_to_model_norms=path_to_norms,\n",
    "                                                 learning_params=None,\n",
    "                                                 loss_type='diag',\n",
    "                                                 model_type='xresnet34',\n",
    "                                                 norm_type='stdnorm')"
   ]
  },
  {
   "cell_type": "code",
   "execution_count": 107,
   "metadata": {},
   "outputs": [
    {
     "name": "stdout",
     "output_type": "stream",
     "text": [
      "WARNING:tensorflow:AutoGraph could not transform <function generate_tf_dataset.<locals>.parse_image_features at 0x1425f1da0> and will run it as-is.\n",
      "Please report this to the TensorFlow team. When filing the bug, set the verbosity to 10 (on Linux, `export AUTOGRAPH_VERBOSITY=10`) and attach the full output.\n",
      "Cause: closure mismatch, requested ('kwargs_detector', 'learning_params', 'log_learning_params', 'log_norm_images', 'noise_function', 'norm_dict', 'norm_images', 'std_norm_images'), but source function had ()\n",
      "To silence this warning, decorate the function with @tf.autograph.experimental.do_not_convert\n"
     ]
    }
   ],
   "source": [
    "# trained.model is gonna take all the inputs, do all the calculations and gives you output on your test object\n",
    "# it is the trained nn\n",
    "# precision is inverse of covariance matrix\n",
    "\n",
    "with io.capture_output() as captured:\n",
    "\n",
    "    y_test, y_pred, std_pred, prec_pred, log_var_pred = trained.gen_network_predictions('generated_images/test/config_LSST_catalog/',samples=False,shuffle=False);"
   ]
  },
  {
   "cell_type": "code",
   "execution_count": 109,
   "metadata": {},
   "outputs": [
    {
     "data": {
      "text/plain": [
       "array([1.069203 , 1.4667774, 1.2199596, ..., 0.7650337, 0.8068223,\n",
       "       0.6710785], dtype=float32)"
      ]
     },
     "execution_count": 109,
     "metadata": {},
     "output_type": "execute_result"
    }
   ],
   "source": [
    "y_test[:,0]"
   ]
  },
  {
   "cell_type": "code",
   "execution_count": null,
   "metadata": {},
   "outputs": [],
   "source": [
    "img_losses = []\n",
    "for i in range(1556):\n",
    "    name = '0'*(7-len(str(i))) + str(i)\n",
    "    img = np.load(f'generated_images/test/config_LSST_catalog/image_{name}.npy')\n",
    "    imgtf = tf.convert_to_tensor(img.reshape(1, 33,33, 1))\n",
    "    imgloss = trained.loss_single_image (y_test[i, :], imgtf)\n",
    "    img_losses.append(imgloss)"
   ]
  },
  {
   "cell_type": "code",
   "execution_count": 110,
   "metadata": {},
   "outputs": [],
   "source": [
    "test_data = pd.read_csv('generated_images/test/config_LSST_catalog/metadata.csv',usecols=np.arange(9,61)) "
   ]
  },
  {
   "cell_type": "code",
   "execution_count": 120,
   "metadata": {},
   "outputs": [],
   "source": [
    "config_file = 'config_LSST_catalog'"
   ]
  },
  {
   "cell_type": "code",
   "execution_count": 130,
   "metadata": {},
   "outputs": [],
   "source": [
    "read_in_data = pd.read_csv('data/deflectors.csv', index_col=0)"
   ]
  },
  {
   "cell_type": "code",
   "execution_count": 132,
   "metadata": {},
   "outputs": [
    {
     "data": {
      "text/html": [
       "<div>\n",
       "<style scoped>\n",
       "    .dataframe tbody tr th:only-of-type {\n",
       "        vertical-align: middle;\n",
       "    }\n",
       "\n",
       "    .dataframe tbody tr th {\n",
       "        vertical-align: top;\n",
       "    }\n",
       "\n",
       "    .dataframe thead th {\n",
       "        text-align: right;\n",
       "    }\n",
       "</style>\n",
       "<table border=\"1\" class=\"dataframe\">\n",
       "  <thead>\n",
       "    <tr style=\"text-align: right;\">\n",
       "      <th></th>\n",
       "      <th>LENSID</th>\n",
       "      <th>FLAGTYPE</th>\n",
       "      <th>NIMG</th>\n",
       "      <th>ZLENS</th>\n",
       "      <th>VELDISP</th>\n",
       "      <th>ELLIP</th>\n",
       "      <th>PHIE</th>\n",
       "      <th>GAMMA</th>\n",
       "      <th>PHIG</th>\n",
       "      <th>ZSRC</th>\n",
       "      <th>...</th>\n",
       "      <th>stellar_mass_bulge_log</th>\n",
       "      <th>stellar_mass_disk_log</th>\n",
       "      <th>halo_mass_log</th>\n",
       "      <th>EINSTEIN</th>\n",
       "      <th>e1_mass</th>\n",
       "      <th>e2_mass</th>\n",
       "      <th>e1_light</th>\n",
       "      <th>e2_light</th>\n",
       "      <th>gamma1</th>\n",
       "      <th>gamma2</th>\n",
       "    </tr>\n",
       "  </thead>\n",
       "  <tbody>\n",
       "    <tr>\n",
       "      <th>3</th>\n",
       "      <td>31148653</td>\n",
       "      <td>0</td>\n",
       "      <td>2</td>\n",
       "      <td>1.016</td>\n",
       "      <td>280.5434</td>\n",
       "      <td>0.281612</td>\n",
       "      <td>91.638680</td>\n",
       "      <td>0.049493</td>\n",
       "      <td>-28.94337</td>\n",
       "      <td>2.05</td>\n",
       "      <td>...</td>\n",
       "      <td>11.327537</td>\n",
       "      <td>-2.558152</td>\n",
       "      <td>13.404356</td>\n",
       "      <td>0.823867</td>\n",
       "      <td>0.163613</td>\n",
       "      <td>0.009369</td>\n",
       "      <td>-0.305842</td>\n",
       "      <td>-0.017513</td>\n",
       "      <td>0.026310</td>\n",
       "      <td>-0.041920</td>\n",
       "    </tr>\n",
       "    <tr>\n",
       "      <th>4</th>\n",
       "      <td>350831</td>\n",
       "      <td>0</td>\n",
       "      <td>2</td>\n",
       "      <td>0.186</td>\n",
       "      <td>209.8940</td>\n",
       "      <td>0.162288</td>\n",
       "      <td>-129.310700</td>\n",
       "      <td>0.023032</td>\n",
       "      <td>113.06560</td>\n",
       "      <td>1.78</td>\n",
       "      <td>...</td>\n",
       "      <td>10.808717</td>\n",
       "      <td>9.582794</td>\n",
       "      <td>12.352448</td>\n",
       "      <td>1.069203</td>\n",
       "      <td>0.017423</td>\n",
       "      <td>-0.086574</td>\n",
       "      <td>-0.033883</td>\n",
       "      <td>0.168365</td>\n",
       "      <td>-0.015962</td>\n",
       "      <td>-0.016605</td>\n",
       "    </tr>\n",
       "    <tr>\n",
       "      <th>5</th>\n",
       "      <td>4789516</td>\n",
       "      <td>0</td>\n",
       "      <td>2</td>\n",
       "      <td>0.476</td>\n",
       "      <td>221.8196</td>\n",
       "      <td>0.073489</td>\n",
       "      <td>148.768700</td>\n",
       "      <td>0.032160</td>\n",
       "      <td>67.83229</td>\n",
       "      <td>1.29</td>\n",
       "      <td>...</td>\n",
       "      <td>10.842839</td>\n",
       "      <td>-0.748321</td>\n",
       "      <td>12.199332</td>\n",
       "      <td>0.768551</td>\n",
       "      <td>-0.017636</td>\n",
       "      <td>0.033825</td>\n",
       "      <td>0.038469</td>\n",
       "      <td>-0.073780</td>\n",
       "      <td>-0.023003</td>\n",
       "      <td>0.022476</td>\n",
       "    </tr>\n",
       "    <tr>\n",
       "      <th>7</th>\n",
       "      <td>1215224</td>\n",
       "      <td>0</td>\n",
       "      <td>4</td>\n",
       "      <td>0.288</td>\n",
       "      <td>233.8837</td>\n",
       "      <td>0.340546</td>\n",
       "      <td>-136.346400</td>\n",
       "      <td>0.033537</td>\n",
       "      <td>-39.73777</td>\n",
       "      <td>2.92</td>\n",
       "      <td>...</td>\n",
       "      <td>10.933130</td>\n",
       "      <td>7.997236</td>\n",
       "      <td>12.291071</td>\n",
       "      <td>1.286778</td>\n",
       "      <td>-0.009641</td>\n",
       "      <td>-0.204989</td>\n",
       "      <td>0.015469</td>\n",
       "      <td>0.328898</td>\n",
       "      <td>0.006126</td>\n",
       "      <td>-0.032973</td>\n",
       "    </tr>\n",
       "    <tr>\n",
       "      <th>9</th>\n",
       "      <td>10798336</td>\n",
       "      <td>0</td>\n",
       "      <td>2</td>\n",
       "      <td>0.652</td>\n",
       "      <td>203.2357</td>\n",
       "      <td>0.461355</td>\n",
       "      <td>-16.851680</td>\n",
       "      <td>0.056664</td>\n",
       "      <td>55.53548</td>\n",
       "      <td>1.32</td>\n",
       "      <td>...</td>\n",
       "      <td>10.840506</td>\n",
       "      <td>9.541715</td>\n",
       "      <td>14.522403</td>\n",
       "      <td>0.489150</td>\n",
       "      <td>-0.249448</td>\n",
       "      <td>0.166382</td>\n",
       "      <td>0.397055</td>\n",
       "      <td>-0.264836</td>\n",
       "      <td>-0.020372</td>\n",
       "      <td>0.052875</td>\n",
       "    </tr>\n",
       "    <tr>\n",
       "      <th>...</th>\n",
       "      <td>...</td>\n",
       "      <td>...</td>\n",
       "      <td>...</td>\n",
       "      <td>...</td>\n",
       "      <td>...</td>\n",
       "      <td>...</td>\n",
       "      <td>...</td>\n",
       "      <td>...</td>\n",
       "      <td>...</td>\n",
       "      <td>...</td>\n",
       "      <td>...</td>\n",
       "      <td>...</td>\n",
       "      <td>...</td>\n",
       "      <td>...</td>\n",
       "      <td>...</td>\n",
       "      <td>...</td>\n",
       "      <td>...</td>\n",
       "      <td>...</td>\n",
       "      <td>...</td>\n",
       "      <td>...</td>\n",
       "      <td>...</td>\n",
       "    </tr>\n",
       "    <tr>\n",
       "      <th>2803</th>\n",
       "      <td>29106493</td>\n",
       "      <td>0</td>\n",
       "      <td>2</td>\n",
       "      <td>0.986</td>\n",
       "      <td>227.5097</td>\n",
       "      <td>0.164940</td>\n",
       "      <td>104.594200</td>\n",
       "      <td>0.061555</td>\n",
       "      <td>-154.18120</td>\n",
       "      <td>2.34</td>\n",
       "      <td>...</td>\n",
       "      <td>11.075373</td>\n",
       "      <td>7.621138</td>\n",
       "      <td>12.655476</td>\n",
       "      <td>0.625790</td>\n",
       "      <td>0.078469</td>\n",
       "      <td>0.043834</td>\n",
       "      <td>-0.146859</td>\n",
       "      <td>-0.082038</td>\n",
       "      <td>0.038203</td>\n",
       "      <td>0.048265</td>\n",
       "    </tr>\n",
       "    <tr>\n",
       "      <th>2804</th>\n",
       "      <td>5337421</td>\n",
       "      <td>0</td>\n",
       "      <td>2</td>\n",
       "      <td>0.496</td>\n",
       "      <td>228.0342</td>\n",
       "      <td>0.264508</td>\n",
       "      <td>-0.344299</td>\n",
       "      <td>0.040356</td>\n",
       "      <td>-138.16740</td>\n",
       "      <td>2.55</td>\n",
       "      <td>...</td>\n",
       "      <td>10.831672</td>\n",
       "      <td>9.721578</td>\n",
       "      <td>12.854919</td>\n",
       "      <td>1.020315</td>\n",
       "      <td>-0.152400</td>\n",
       "      <td>0.001832</td>\n",
       "      <td>0.265482</td>\n",
       "      <td>-0.003191</td>\n",
       "      <td>0.004453</td>\n",
       "      <td>0.040110</td>\n",
       "    </tr>\n",
       "    <tr>\n",
       "      <th>2809</th>\n",
       "      <td>21219638</td>\n",
       "      <td>0</td>\n",
       "      <td>2</td>\n",
       "      <td>0.860</td>\n",
       "      <td>296.4831</td>\n",
       "      <td>0.058690</td>\n",
       "      <td>8.432822</td>\n",
       "      <td>0.071142</td>\n",
       "      <td>-43.29349</td>\n",
       "      <td>2.68</td>\n",
       "      <td>...</td>\n",
       "      <td>11.412108</td>\n",
       "      <td>7.010972</td>\n",
       "      <td>13.516719</td>\n",
       "      <td>1.293439</td>\n",
       "      <td>-0.028932</td>\n",
       "      <td>-0.008771</td>\n",
       "      <td>0.042378</td>\n",
       "      <td>0.012848</td>\n",
       "      <td>0.004235</td>\n",
       "      <td>-0.071016</td>\n",
       "    </tr>\n",
       "    <tr>\n",
       "      <th>2811</th>\n",
       "      <td>32385282</td>\n",
       "      <td>0</td>\n",
       "      <td>2</td>\n",
       "      <td>1.034</td>\n",
       "      <td>225.9436</td>\n",
       "      <td>0.036238</td>\n",
       "      <td>-25.338560</td>\n",
       "      <td>0.031332</td>\n",
       "      <td>105.66190</td>\n",
       "      <td>2.92</td>\n",
       "      <td>...</td>\n",
       "      <td>11.031167</td>\n",
       "      <td>0.038594</td>\n",
       "      <td>13.086989</td>\n",
       "      <td>0.677326</td>\n",
       "      <td>-0.011694</td>\n",
       "      <td>0.014275</td>\n",
       "      <td>0.022323</td>\n",
       "      <td>-0.027251</td>\n",
       "      <td>-0.026765</td>\n",
       "      <td>-0.016289</td>\n",
       "    </tr>\n",
       "    <tr>\n",
       "      <th>2816</th>\n",
       "      <td>166707</td>\n",
       "      <td>0</td>\n",
       "      <td>2</td>\n",
       "      <td>0.144</td>\n",
       "      <td>163.3052</td>\n",
       "      <td>0.239742</td>\n",
       "      <td>-117.244800</td>\n",
       "      <td>0.108073</td>\n",
       "      <td>94.01389</td>\n",
       "      <td>1.73</td>\n",
       "      <td>...</td>\n",
       "      <td>10.482434</td>\n",
       "      <td>9.823402</td>\n",
       "      <td>12.878427</td>\n",
       "      <td>0.671937</td>\n",
       "      <td>0.079110</td>\n",
       "      <td>-0.110866</td>\n",
       "      <td>-0.152789</td>\n",
       "      <td>0.214120</td>\n",
       "      <td>-0.107014</td>\n",
       "      <td>-0.015093</td>\n",
       "    </tr>\n",
       "  </tbody>\n",
       "</table>\n",
       "<p>1557 rows × 98 columns</p>\n",
       "</div>"
      ],
      "text/plain": [
       "        LENSID  FLAGTYPE  NIMG  ZLENS   VELDISP     ELLIP        PHIE  \\\n",
       "3     31148653         0     2  1.016  280.5434  0.281612   91.638680   \n",
       "4       350831         0     2  0.186  209.8940  0.162288 -129.310700   \n",
       "5      4789516         0     2  0.476  221.8196  0.073489  148.768700   \n",
       "7      1215224         0     4  0.288  233.8837  0.340546 -136.346400   \n",
       "9     10798336         0     2  0.652  203.2357  0.461355  -16.851680   \n",
       "...        ...       ...   ...    ...       ...       ...         ...   \n",
       "2803  29106493         0     2  0.986  227.5097  0.164940  104.594200   \n",
       "2804   5337421         0     2  0.496  228.0342  0.264508   -0.344299   \n",
       "2809  21219638         0     2  0.860  296.4831  0.058690    8.432822   \n",
       "2811  32385282         0     2  1.034  225.9436  0.036238  -25.338560   \n",
       "2816    166707         0     2  0.144  163.3052  0.239742 -117.244800   \n",
       "\n",
       "         GAMMA       PHIG  ZSRC  ...  stellar_mass_bulge_log  \\\n",
       "3     0.049493  -28.94337  2.05  ...               11.327537   \n",
       "4     0.023032  113.06560  1.78  ...               10.808717   \n",
       "5     0.032160   67.83229  1.29  ...               10.842839   \n",
       "7     0.033537  -39.73777  2.92  ...               10.933130   \n",
       "9     0.056664   55.53548  1.32  ...               10.840506   \n",
       "...        ...        ...   ...  ...                     ...   \n",
       "2803  0.061555 -154.18120  2.34  ...               11.075373   \n",
       "2804  0.040356 -138.16740  2.55  ...               10.831672   \n",
       "2809  0.071142  -43.29349  2.68  ...               11.412108   \n",
       "2811  0.031332  105.66190  2.92  ...               11.031167   \n",
       "2816  0.108073   94.01389  1.73  ...               10.482434   \n",
       "\n",
       "      stellar_mass_disk_log  halo_mass_log  EINSTEIN   e1_mass   e2_mass  \\\n",
       "3                 -2.558152      13.404356  0.823867  0.163613  0.009369   \n",
       "4                  9.582794      12.352448  1.069203  0.017423 -0.086574   \n",
       "5                 -0.748321      12.199332  0.768551 -0.017636  0.033825   \n",
       "7                  7.997236      12.291071  1.286778 -0.009641 -0.204989   \n",
       "9                  9.541715      14.522403  0.489150 -0.249448  0.166382   \n",
       "...                     ...            ...       ...       ...       ...   \n",
       "2803               7.621138      12.655476  0.625790  0.078469  0.043834   \n",
       "2804               9.721578      12.854919  1.020315 -0.152400  0.001832   \n",
       "2809               7.010972      13.516719  1.293439 -0.028932 -0.008771   \n",
       "2811               0.038594      13.086989  0.677326 -0.011694  0.014275   \n",
       "2816               9.823402      12.878427  0.671937  0.079110 -0.110866   \n",
       "\n",
       "      e1_light  e2_light    gamma1    gamma2  \n",
       "3    -0.305842 -0.017513  0.026310 -0.041920  \n",
       "4    -0.033883  0.168365 -0.015962 -0.016605  \n",
       "5     0.038469 -0.073780 -0.023003  0.022476  \n",
       "7     0.015469  0.328898  0.006126 -0.032973  \n",
       "9     0.397055 -0.264836 -0.020372  0.052875  \n",
       "...        ...       ...       ...       ...  \n",
       "2803 -0.146859 -0.082038  0.038203  0.048265  \n",
       "2804  0.265482 -0.003191  0.004453  0.040110  \n",
       "2809  0.042378  0.012848  0.004235 -0.071016  \n",
       "2811  0.022323 -0.027251 -0.026765 -0.016289  \n",
       "2816 -0.152789  0.214120 -0.107014 -0.015093  \n",
       "\n",
       "[1557 rows x 98 columns]"
      ]
     },
     "execution_count": 132,
     "metadata": {},
     "output_type": "execute_result"
    }
   ],
   "source": [
    "read_in_data"
   ]
  },
  {
   "cell_type": "code",
   "execution_count": 135,
   "metadata": {},
   "outputs": [
    {
     "data": {
      "text/html": [
       "<div>\n",
       "<style scoped>\n",
       "    .dataframe tbody tr th:only-of-type {\n",
       "        vertical-align: middle;\n",
       "    }\n",
       "\n",
       "    .dataframe tbody tr th {\n",
       "        vertical-align: top;\n",
       "    }\n",
       "\n",
       "    .dataframe thead th {\n",
       "        text-align: right;\n",
       "    }\n",
       "</style>\n",
       "<table border=\"1\" class=\"dataframe\">\n",
       "  <thead>\n",
       "    <tr style=\"text-align: right;\">\n",
       "      <th></th>\n",
       "      <th>LENSID</th>\n",
       "      <th>FLAGTYPE</th>\n",
       "      <th>NIMG</th>\n",
       "      <th>ZLENS</th>\n",
       "      <th>VELDISP</th>\n",
       "      <th>ELLIP</th>\n",
       "      <th>PHIE</th>\n",
       "      <th>GAMMA</th>\n",
       "      <th>PHIG</th>\n",
       "      <th>ZSRC</th>\n",
       "      <th>...</th>\n",
       "      <th>stellar_mass_bulge_log</th>\n",
       "      <th>stellar_mass_disk_log</th>\n",
       "      <th>halo_mass_log</th>\n",
       "      <th>EINSTEIN</th>\n",
       "      <th>e1_mass</th>\n",
       "      <th>e2_mass</th>\n",
       "      <th>e1_light</th>\n",
       "      <th>e2_light</th>\n",
       "      <th>gamma1</th>\n",
       "      <th>gamma2</th>\n",
       "    </tr>\n",
       "  </thead>\n",
       "  <tbody>\n",
       "    <tr>\n",
       "      <th>4</th>\n",
       "      <td>350831</td>\n",
       "      <td>0</td>\n",
       "      <td>2</td>\n",
       "      <td>0.186</td>\n",
       "      <td>209.894</td>\n",
       "      <td>0.162288</td>\n",
       "      <td>-129.3107</td>\n",
       "      <td>0.023032</td>\n",
       "      <td>113.0656</td>\n",
       "      <td>1.78</td>\n",
       "      <td>...</td>\n",
       "      <td>10.808717</td>\n",
       "      <td>9.582794</td>\n",
       "      <td>12.352448</td>\n",
       "      <td>1.069203</td>\n",
       "      <td>0.017423</td>\n",
       "      <td>-0.086574</td>\n",
       "      <td>-0.033883</td>\n",
       "      <td>0.168365</td>\n",
       "      <td>-0.015962</td>\n",
       "      <td>-0.016605</td>\n",
       "    </tr>\n",
       "  </tbody>\n",
       "</table>\n",
       "<p>1 rows × 98 columns</p>\n",
       "</div>"
      ],
      "text/plain": [
       "   LENSID  FLAGTYPE  NIMG  ZLENS  VELDISP     ELLIP      PHIE     GAMMA  \\\n",
       "4  350831         0     2  0.186  209.894  0.162288 -129.3107  0.023032   \n",
       "\n",
       "       PHIG  ZSRC  ...  stellar_mass_bulge_log  stellar_mass_disk_log  \\\n",
       "4  113.0656  1.78  ...               10.808717               9.582794   \n",
       "\n",
       "   halo_mass_log  EINSTEIN   e1_mass   e2_mass  e1_light  e2_light    gamma1  \\\n",
       "4      12.352448  1.069203  0.017423 -0.086574 -0.033883  0.168365 -0.015962   \n",
       "\n",
       "     gamma2  \n",
       "4 -0.016605  \n",
       "\n",
       "[1 rows x 98 columns]"
      ]
     },
     "execution_count": 135,
     "metadata": {},
     "output_type": "execute_result"
    }
   ],
   "source": [
    "read_in_data[np.isclose(read_in_data['EINSTEIN'],1.069203)]"
   ]
  },
  {
   "cell_type": "code",
   "execution_count": 136,
   "metadata": {},
   "outputs": [
    {
     "name": "stdout",
     "output_type": "stream",
     "text": [
      "Available Keys:\n",
      "dict_keys(['lens_model_list', 'lens_redshift_list', 'lens_light_model_list', 'point_source_model_list', 'source_light_model_list', 'source_redshift_list', 'multi_plane', 'z_source', 'z_source_convention'])\n",
      "dict_keys(['kwargs_lens', 'kwargs_lens_light', 'kwargs_ps', 'kwargs_source'])\n",
      "\n",
      "lens_model_list\n",
      "['EPL_NUMBA', 'SHEAR']\n",
      "kwargs_lens\n",
      "\n",
      "[{'R_sersic': 0.8547239, 'center_x': 0, 'center_y': 0, 'e1': -0.0338829042352158, 'e2': 0.1683650071105145, 'n_sersic': 4.0, 'amp': 343.6140038547163}]\n"
     ]
    }
   ],
   "source": [
    "from paltas.Configs.config_handler import ConfigHandler\n",
    "\n",
    "# We'll pass one of our example Configs in\n",
    "config_handler = ConfigHandler(os.path.join(root_path,f'paltas/notebooks/{config_file}.py'), index=4)\n",
    "\n",
    "# First let's get the lenstronomy model lists, kwargs lists, and redshift lists.\n",
    "kwargs_model, kwargs_params = config_handler.get_lenstronomy_models_kwargs()\n",
    "\n",
    "# We can see what keys are returned, and inspect the lens models in particular\n",
    "print('Available Keys:')\n",
    "print(kwargs_model.keys())\n",
    "print(kwargs_params.keys())\n",
    "print('')\n",
    "\n",
    "print('lens_model_list')\n",
    "print(kwargs_model['lens_model_list'])\n",
    "print('kwargs_lens')\n",
    "print()\n",
    "print(kwargs_params['kwargs_lens_light'])\n"
   ]
  },
  {
   "cell_type": "code",
   "execution_count": 137,
   "metadata": {},
   "outputs": [],
   "source": [
    "img, prop = config_handler.draw_image(new_sample=True)"
   ]
  },
  {
   "cell_type": "code",
   "execution_count": 143,
   "metadata": {},
   "outputs": [
    {
     "name": "stdout",
     "output_type": "stream",
     "text": [
      "main_deflector_parameters_theta_E : 1.069203006204712\n",
      "main_deflector_parameters_gamma1 : -0.0159615577779007\n",
      "main_deflector_parameters_gamma2 : -0.0166046003481064\n",
      "main_deflector_parameters_gamma : 2.06781132166228\n",
      "main_deflector_parameters_e1 : 0.0174227481958257\n",
      "main_deflector_parameters_e2 : -0.0865740759266477\n",
      "main_deflector_parameters_center_x : 0\n",
      "main_deflector_parameters_center_y : 0\n"
     ]
    }
   ],
   "source": [
    "for i in trained.learning_params:\n",
    "    print(f'{i} : {prop[i]}')"
   ]
  },
  {
   "cell_type": "code",
   "execution_count": 140,
   "metadata": {},
   "outputs": [
    {
     "data": {
      "text/plain": [
       "<matplotlib.image.AxesImage at 0x305163450>"
      ]
     },
     "execution_count": 140,
     "metadata": {},
     "output_type": "execute_result"
    },
    {
     "data": {
      "image/png": "[encoded data removed]",
      "text/plain": [
       "<Figure size 640x480 with 1 Axes>"
      ]
     },
     "metadata": {},
     "output_type": "display_data"
    }
   ],
   "source": [
    "imagestd = dg.standard_norm_image(img)\n",
    "plt.imshow(imagestd)"
   ]
  },
  {
   "cell_type": "code",
   "execution_count": 116,
   "metadata": {},
   "outputs": [
    {
     "data": {
      "text/plain": [
       "<matplotlib.colorbar.Colorbar at 0x28d042050>"
      ]
     },
     "execution_count": 116,
     "metadata": {},
     "output_type": "execute_result"
    },
    {
     "data": {
      "image/png": "[encoded data removed]",
      "text/plain": [
       "<Figure size 1500x500 with 6 Axes>"
      ]
     },
     "metadata": {},
     "output_type": "display_data"
    }
   ],
   "source": [
    "fig, ax = plt.subplots(1, 3, figsize=(15, 5))\n",
    "#ind = np.random.choice(1557)\n",
    "ind=0\n",
    "name = '%07d'%(ind)\n",
    "image = np.load(f'generated_images/test/config_LSST_catalog/image_{name}.npy')\n",
    "\n",
    "imagestd = dg.standard_norm_image(image)\n",
    "im0=ax[0].imshow(imagestd)\n",
    "ax[0].set_title(\"standardized\")\n",
    "divider = make_axes_locatable(ax[0])\n",
    "cax = divider.append_axes('right', size='5%', pad=0.05)\n",
    "fig.colorbar(im0, cax=cax, orientation='vertical')\n",
    "\n",
    "imagenorm = dg.norm_image(image)\n",
    "im1 = ax[1].imshow(imagenorm)\n",
    "ax[1].set_title('normalized')\n",
    "divider = make_axes_locatable(ax[1])\n",
    "cax = divider.append_axes('right', size='5%', pad=0.05)\n",
    "fig.colorbar(im1, cax=cax, orientation='vertical')\n",
    "\n",
    "imagelog = dg.log_norm_image(image)\n",
    "im2 = ax[2].imshow(imagelog)\n",
    "ax[2].set_title('log normalized')\n",
    "divider = make_axes_locatable(ax[2])\n",
    "cax = divider.append_axes('right', size='5%', pad=0.05)\n",
    "fig.colorbar(im2, cax=cax, orientation='vertical')"
   ]
  },
  {
   "cell_type": "code",
   "execution_count": 85,
   "metadata": {},
   "outputs": [],
   "source": []
  },
  {
   "cell_type": "code",
   "execution_count": 79,
   "metadata": {},
   "outputs": [
    {
     "data": {
      "text/plain": [
       "(array([ 22., 266., 308., 153.,  75.,  42.,  39.,  25.,  21.,  14.,  11.,\n",
       "          8.,   5.,   8.,   7.,   9.,   3.,   5.,   5.,   4.,   2.,   5.,\n",
       "          1.,   6.,   2.,   1.,   2.,   1.,   4.,   3.,   2.,   1.,   2.,\n",
       "          0.,   1.,   0.,   0.,   0.,   0.,   1.,   1.,   1.,   3.,   0.,\n",
       "          0.,   1.,   2.,   1.,   0.,   0.,   0.,   0.,   0.,   1.,   1.,\n",
       "          0.,   0.,   0.,   1.,   1.,   0.,   0.,   0.,   1.,   1.,   1.,\n",
       "          0.,   1.,   0.,   0.,   0.,   0.,   0.,   0.,   0.,   0.,   0.,\n",
       "          2.,   0.,   0.,   0.,   0.,   1.,   0.,   1.,   1.,   1.,   0.,\n",
       "          0.,   0.,   0.,   0.,   0.,   0.,   0.,   0.,   0.,   0.,   1.,\n",
       "          1.]),\n",
       " array([-1.00668684, -0.43896749,  0.12875186,  0.6964712 ,  1.26419055,\n",
       "         1.8319099 ,  2.39962924,  2.96734859,  3.53506794,  4.10278728,\n",
       "         4.67050663,  5.23822598,  5.80594532,  6.37366467,  6.94138402,\n",
       "         7.50910336,  8.07682271,  8.64454206,  9.2122614 ,  9.77998075,\n",
       "        10.3477001 , 10.91541944, 11.48313879, 12.05085814, 12.61857748,\n",
       "        13.18629683, 13.75401618, 14.32173552, 14.88945487, 15.45717422,\n",
       "        16.02489356, 16.59261291, 17.16033226, 17.7280516 , 18.29577095,\n",
       "        18.8634903 , 19.43120964, 19.99892899, 20.56664834, 21.13436768,\n",
       "        21.70208703, 22.26980638, 22.83752572, 23.40524507, 23.97296442,\n",
       "        24.54068376, 25.10840311, 25.67612246, 26.2438418 , 26.81156115,\n",
       "        27.3792805 , 27.94699984, 28.51471919, 29.08243854, 29.65015788,\n",
       "        30.21787723, 30.78559658, 31.35331592, 31.92103527, 32.48875462,\n",
       "        33.05647396, 33.62419331, 34.19191266, 34.759632  , 35.32735135,\n",
       "        35.8950707 , 36.46279004, 37.03050939, 37.59822874, 38.16594808,\n",
       "        38.73366743, 39.30138678, 39.86910612, 40.43682547, 41.00454482,\n",
       "        41.57226416, 42.13998351, 42.70770286, 43.2754222 , 43.84314155,\n",
       "        44.4108609 , 44.97858024, 45.54629959, 46.11401894, 46.68173828,\n",
       "        47.24945763, 47.81717698, 48.38489632, 48.95261567, 49.52033502,\n",
       "        50.08805436, 50.65577371, 51.22349306, 51.7912124 , 52.35893175,\n",
       "        52.9266511 , 53.49437044, 54.06208979, 54.62980914, 55.19752848,\n",
       "        55.76524783]),\n",
       " <BarContainer object of 100 artists>)"
      ]
     },
     "execution_count": 79,
     "metadata": {},
     "output_type": "execute_result"
    },
    {
     "data": {
      "image/png": "[encoded data removed]",
      "text/plain": [
       "<Figure size 640x480 with 1 Axes>"
      ]
     },
     "metadata": {},
     "output_type": "display_data"
    }
   ],
   "source": [
    "image_flat = image.flatten()\n",
    "plt.hist(image_flat, bins=100)"
   ]
  },
  {
   "cell_type": "code",
   "execution_count": 99,
   "metadata": {},
   "outputs": [
    {
     "data": {
      "text/plain": [
       "<matplotlib.image.AxesImage at 0x28c442590>"
      ]
     },
     "execution_count": 99,
     "metadata": {},
     "output_type": "execute_result"
    },
    {
     "data": {
      "image/png": "[encoded data removed]",
      "text/plain": [
       "<Figure size 640x480 with 1 Axes>"
      ]
     },
     "metadata": {},
     "output_type": "display_data"
    }
   ],
   "source": [
    "image = np.load(f'generated_images/test/config_LSST_catalog/image_0000038.npy')\n",
    "image = tf.experimental.numpy.log10(1+image)\n",
    "image = (image - tf.math.reduce_min(image))/(tf.math.reduce_max(image) - tf.math.reduce_min(image))\n",
    "plt.imshow(image)\n",
    "#\n",
    "\t# rescale to range [0,1]\n",
    "# image = (image - tf.math.reduce_min(image)) / (\n",
    "# \t\ttf.math.reduce_max(image)- tf.math.reduce_min(image))"
   ]
  },
  {
   "cell_type": "code",
   "execution_count": 89,
   "metadata": {},
   "outputs": [
    {
     "data": {
      "text/plain": [
       "<matplotlib.colorbar.Colorbar at 0x28c0d92d0>"
      ]
     },
     "execution_count": 89,
     "metadata": {},
     "output_type": "execute_result"
    },
    {
     "data": {
      "image/png": "[encoded data removed]",
      "text/plain": [
       "<Figure size 640x480 with 1 Axes>"
      ]
     },
     "metadata": {},
     "output_type": "display_data"
    }
   ],
   "source": [
    "imagelog = dg.log_norm_image(image)\n",
    "im2 = plt.imshow(imagelog)\n",
    "plt.title('log normalized')\n",
    "divider = make_axes_locatable(ax[2])\n",
    "cax = divider.append_axes('right', size='5%', pad=0.05)\n",
    "fig.colorbar(im2, cax=cax, orientation='vertical')"
   ]
  },
  {
   "cell_type": "code",
   "execution_count": null,
   "metadata": {},
   "outputs": [],
   "source": []
  },
  {
   "cell_type": "code",
   "execution_count": null,
   "metadata": {},
   "outputs": [],
   "source": []
  }
 ],
 "metadata": {
  "kernelspec": {
   "display_name": "silver",
   "language": "python",
   "name": "python3"
  },
  "language_info": {
   "codemirror_mode": {
    "name": "ipython",
    "version": 3
   },
   "file_extension": ".py",
   "mimetype": "text/x-python",
   "name": "python",
   "nbconvert_exporter": "python",
   "pygments_lexer": "ipython3",
   "version": "3.11.4"
  }
 },
 "nbformat": 4,
 "nbformat_minor": 2
}
