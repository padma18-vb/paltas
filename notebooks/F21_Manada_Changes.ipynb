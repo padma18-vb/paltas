{
 "cells": [
  {
   "cell_type": "code",
   "execution_count": 1,
   "metadata": {},
   "outputs": [
    {
     "name": "stdout",
     "output_type": "stream",
     "text": [
      "1.19.5\n",
      "['/usr/local/Caskroom/miniforge/base/envs/myenv/lib/python3.9/site-packages/numpy']\n",
      "/Users/smericks/Desktop/StrongLensing/manada\n"
     ]
    }
   ],
   "source": [
    "%load_ext autoreload\n",
    "%autoreload 2\n",
    "\n",
    "import numpy as np\n",
    "print(np.__version__)\n",
    "print(np.__path__)\n",
    "import pandas as pd\n",
    "from scipy.stats import norm, truncnorm\n",
    "from manada.Sources.sersic import SingleSersicSource\n",
    "from manada.MainDeflector.simple_deflectors import PEMD\n",
    "from manada.Sources.cosmos import COSMOSCatalog\n",
    "from manada.Sources.cosmos_sersic import COSMOSSersic\n",
    "from manada.PointSource.single_point_source import SinglePointSource\n",
    "import manada\n",
    "from manada.Sampling.sampler import Sampler\n",
    "from manada.Sources.source_base import SourceBase\n",
    "from lenstronomy.SimulationAPI.data_api import DataAPI\n",
    "from lenstronomy.LensModel.lens_model import LensModel\n",
    "from lenstronomy.LightModel.light_model import LightModel\n",
    "from lenstronomy.ImSim.image_model import ImageModel\n",
    "from lenstronomy.Data.psf import PSF\n",
    "import matplotlib.pyplot as plt\n",
    "import os, subprocess, sys\n",
    "from matplotlib import colors\n",
    "from astropy.visualization import simple_norm\n",
    "from fastell4py import _fastell\n",
    "from manada.generate import draw_image\n",
    "\n",
    "root_path = manada.__path__[0][:-7]\n",
    "\n",
    "print(root_path)"
   ]
  },
  {
   "cell_type": "markdown",
   "metadata": {},
   "source": [
    "# Changes to Manada, Fall Quarter 2021\n",
    "\n",
    "__Author:__ Sydney Erickson with help from Sebastian Wagner-Carena and Ji Won Park\n",
    "\n",
    "__Goals:__ \n",
    "\n",
    "- Show how Manada operated before Fall 2021 changes<br>\n",
    "- Walk through each change and demonstrate its impact<br>\n",
    "1. [COSMOS + Sersic Source](#cosmos_sersic)\n",
    "2. [Point Source](#point_source)\n",
    "3. [Point Source Magnification Errors](#mag_pert)\n",
    "4. [Lens Light](#lens_light)\n",
    "5. [Time Delay Metadata](#time_delay)\n"
   ]
  },
  {
   "cell_type": "markdown",
   "metadata": {},
   "source": [
    "## Before Changes"
   ]
  },
  {
   "cell_type": "markdown",
   "metadata": {},
   "source": [
    "__Generate a training set using COSMOS galaxies__\n",
    "\n",
    "Prior to my contributions, Sebastian provided capability to use COSMOS galaxies as source light instead of a Sersic Ellipse. The COSMOS galaxy library is found here: https://github.com/GalSim-developers/GalSim/wiki/RealGalaxy%20Data. Be sure to download and unzip the 23.5 training sample before running this notebook. \n"
   ]
  },
  {
   "cell_type": "code",
   "execution_count": null,
   "metadata": {},
   "outputs": [],
   "source": [
    "#Generate COSMOS Training Set\n",
    "\n",
    "# Change our working directory to the location of generate.py\n",
    "os.chdir(os.path.join(root_path,'manada'))\n",
    "config_path = os.path.join(root_path,'notebooks/notebook_data/F21_notebook/config_COSMOSonly.py')\n",
    "output_path = os.path.join(root_path,'notebooks/notebook_data/F21_notebook/COSMOS_data')\n",
    "sys.argv = ['generate',config_path,output_path,'--n','10']\n",
    "manada.generate.main()"
   ]
  },
  {
   "cell_type": "markdown",
   "metadata": {},
   "source": [
    "Plot images of the new training set:"
   ]
  },
  {
   "cell_type": "code",
   "execution_count": null,
   "metadata": {},
   "outputs": [],
   "source": [
    "#Plot images\n",
    "# Load the metadata\n",
    "# Sebastian - this is where I see an error in the metadata.csv\n",
    "metadata = pd.read_csv(os.path.join(output_path,'metadata.csv'), index_col=None)\n",
    "\n",
    "nt=0\n",
    "image = np.load(os.path.join(output_path,'image_%07d.npy'%nt))\n",
    "norm=simple_norm(image, stretch='asinh', min_cut=1e-4)\n",
    "\n",
    "#make a matrix and plot it once\n",
    "matrix = np.ones((3*128, 3*128))\n",
    "for i in range(0,3) :\n",
    "    left_i = i*128\n",
    "    right_i = i*128 +128\n",
    "    for j in range(0,3) :\n",
    "        left_j = j*128\n",
    "        right_j = j*128 + 128\n",
    "        image = np.load(os.path.join(output_path,'image_%07d.npy'%nt))\n",
    "        matrix[left_i:right_i,left_j:right_j]= image\n",
    "        nt+=1\n",
    "\n",
    "plt.figure(figsize=(8,8))\n",
    "plt.matshow(matrix,origin='lower',norm=norm,cmap='plasma',fignum=1)\n",
    "ax = plt.gca()\n",
    "ax.axes.xaxis.set_visible(False)\n",
    "ax.axes.yaxis.set_visible(False)\n",
    "plt.title('COSMOS Host Galaxy Training Set')\n",
    "plt.show()"
   ]
  },
  {
   "cell_type": "markdown",
   "metadata": {},
   "source": [
    "__Generate a training set using a single sersic source__\n",
    "\n",
    "Note that this is already done in the last section of Understanding_Manada_Pipeline notebook using the SingleSersicSource class. We will repeat the code here so that users can easily compare training sets generated using COSMOSCatalog and SingleSersicSource source classes."
   ]
  },
  {
   "cell_type": "code",
   "execution_count": null,
   "metadata": {},
   "outputs": [],
   "source": [
    "config_path = os.path.join(root_path,'notebooks/notebook_data/config_example.py')\n",
    "output_path = os.path.join(root_path,'notebooks/notebook_data/F21_notebook/Sersic_data')\n",
    "sys.argv = ['generate',config_path,output_path,'--n','10']\n",
    "manada.generate.main()"
   ]
  },
  {
   "cell_type": "markdown",
   "metadata": {},
   "source": [
    "Plot images of the new training set:"
   ]
  },
  {
   "cell_type": "code",
   "execution_count": null,
   "metadata": {},
   "outputs": [],
   "source": [
    "#Plot images\n",
    "# Load the metadata\n",
    "metadata = pd.read_csv(os.path.join(output_path,'metadata.csv'))\n",
    "\n",
    "nt=8\n",
    "#norm=simple_norm(np.load(os.path.join(output_path,'image_%07d.npy'%nt)), stretch='log', min_cut=1e-2)\n",
    "norm=None\n",
    "f, ax = plt.subplots(3,3,figsize=(6,6),gridspec_kw={'hspace': 0.1})\n",
    "f.subplots_adjust(wspace=0.0)\n",
    "nt = 0\n",
    "\n",
    "for i in range(0,3) :\n",
    "    for j in range(0,3) :\n",
    "        image = np.load(os.path.join(output_path,'image_%07d.npy'%nt))\n",
    "        ax[i,j].get_xaxis().set_visible(False)\n",
    "        ax[i,j].get_yaxis().set_visible(False)\n",
    "        ax[i,j].matshow(image, origin='lower', norm=norm, cmap='plasma')\n",
    "        nt += 1\n",
    "\n",
    "plt.suptitle('Sersic Only Training Set')\n",
    "plt.show()"
   ]
  },
  {
   "cell_type": "markdown",
   "metadata": {},
   "source": [
    "## After Changes"
   ]
  },
  {
   "cell_type": "markdown",
   "metadata": {},
   "source": [
    "__1. Adding a Sersic light source on top of a COSMOS galaxy__<a class=\"anchor\" id=\"cosmos_sersic\"></a>\n",
    "\n",
    "The first step was to make a source class, COSMOSSersic, that is used to generate images with two sources added together: a Sersic Ellipse and a COSMOS galaxy. This isn't intended to represent anything physical, rather it will be used to validate image positions when adding a point source to a COSMOS galaxy."
   ]
  },
  {
   "cell_type": "markdown",
   "metadata": {},
   "source": [
    "Generate a training set using the COSMOSSersic source class."
   ]
  },
  {
   "cell_type": "code",
   "execution_count": null,
   "metadata": {},
   "outputs": [],
   "source": [
    "# Let's generate a training set using this new source class\n",
    "\n",
    "config_path = os.path.join(root_path,'notebooks/notebook_data/F21_notebook/config_COSMOSSersic.py')\n",
    "output_path = os.path.join(root_path,'notebooks/notebook_data/F21_notebook/COSMOSSersicData')\n",
    "sys.argv = ['generate',config_path,output_path,'--n','10']\n",
    "manada.generate.main()"
   ]
  },
  {
   "cell_type": "markdown",
   "metadata": {},
   "source": [
    "Plot images of the new training set:"
   ]
  },
  {
   "cell_type": "code",
   "execution_count": null,
   "metadata": {},
   "outputs": [],
   "source": [
    "#Plot images\n",
    "# Load the metadata\n",
    "metadata = pd.read_csv(os.path.join(output_path,'metadata.csv'))\n",
    "\n",
    "plt.rcParams[\"figure.figsize\"] = (12,12)\n",
    "#norm=None\n",
    "nt=8\n",
    "norm=simple_norm(np.load(os.path.join(output_path,'image_%07d.npy'%nt)), stretch='asinh', min_cut=1e-4)\n",
    "#norm=None\n",
    "f, ax = plt.subplots(3,3,figsize=(6,6),gridspec_kw={'hspace': 0.1})\n",
    "f.subplots_adjust(wspace=0.0)\n",
    "nt = 0\n",
    "for i in range(0,3) :\n",
    "    for j in range(0,3) :\n",
    "        image = np.load(os.path.join(output_path,'image_%07d.npy'%nt))\n",
    "        ax[i,j].get_xaxis().set_visible(False)\n",
    "        ax[i,j].get_yaxis().set_visible(False)\n",
    "        ax[i,j].matshow(image, origin='lower', norm=norm, cmap='plasma')\n",
    "        nt += 1\n",
    "plt.suptitle('COSMOS + Sersic Training Set')\n",
    "plt.show()"
   ]
  },
  {
   "cell_type": "markdown",
   "metadata": {},
   "source": [
    "In addition to generating a training set using this new source class, we want to investigate the output in more detail. We'll define a configuration dictionary that will be used with the draw_image() function located in the generate.py file to generate and investigate single images. "
   ]
  },
  {
   "cell_type": "markdown",
   "metadata": {},
   "source": [
    "Define configuration dictionaries for single image generation:"
   ]
  },
  {
   "cell_type": "code",
   "execution_count": null,
   "metadata": {},
   "outputs": [],
   "source": [
    "numpix = 128\n",
    "kwargs_numerics = {'supersampling_factor':2}\n",
    "cosmos_folder = '/Users/smericks/Desktop/StrongLensing/COSMOS_23.5_training_sample/'\n",
    "\n",
    "config_dict = {\n",
    "    'main_deflector':{\n",
    "        'class': PEMD,\n",
    "        'parameters':{'z_lens': 0.5,'gamma': 2.0,'theta_E': 1.3,'e1': 0.05,'e2': -0.1,'center_x': 0.06,'center_y': 0.08}\n",
    "    },\n",
    "    'source':{\n",
    "        'class': COSMOSSersic,\n",
    "        'parameters':{\n",
    "\t        'z_source':1.5,\n",
    "\t        'cosmos_folder':cosmos_folder,\n",
    "\t        'max_z':0.05,\n",
    "            'minimum_size_in_pixels':650,'min_apparent_mag':20,\n",
    "            'smoothing_sigma':0.08,'random_rotation':False,\n",
    "\t        'min_flux_radius':10.0,\n",
    "\t        'output_ab_zeropoint':25.127,\n",
    "\t        # start w/ mag=20, see if bright enough to see Sersic\n",
    "\t        'mag_sersic':22,\n",
    "\t        'R_sersic':0.1,\n",
    "            'n_sersic':2.5,\n",
    "\t        'e1_sersic':0,\n",
    "\t        'e2_sersic':0,\n",
    "\t        'center_x_sersic':0.0,\n",
    "\t        'center_y_sersic':0.0}\n",
    "    },\n",
    "    'cosmology':{\n",
    "        'parameters':{'cosmology_name': 'planck18'}\n",
    "    },\n",
    "    'psf':{\n",
    "\t\t'parameters':{\n",
    "\t\t\t'psf_type':'GAUSSIAN',\n",
    "\t\t\t'fwhm': 0.1\n",
    "\t\t}\n",
    "\t},\n",
    "    'detector':{\n",
    "        'parameters':{'pixel_scale':0.04,'magnitude_zero_point':25,'exposure_time':5400,'read_noise':3.0,\n",
    "                      'ccd_gain':1.58,'sky_brightness':21.83}\n",
    "    },\n",
    "}\n",
    "\n",
    "# 2nd dict is only used to validate what subtraction should look like w/ SingleSersicSource\n",
    "\n",
    "config_dict_sersic = {\n",
    "    'main_deflector':{\n",
    "        'class': PEMD,\n",
    "        'parameters':{'z_lens': 0.5,'gamma': 2.0,'theta_E': 1.3,'e1': 0.05,'e2': -0.1,'center_x': 0.06,'center_y': 0.08}\n",
    "    },\n",
    "    'source':{\n",
    "        'class': SingleSersicSource,\n",
    "        'parameters':{\n",
    "\t        'z_source':1.5,\n",
    "\t        'magnitude':22,\n",
    "            'output_ab_zeropoint':25.127,\n",
    "\t        'R_sersic':0.1,\n",
    "            'n_sersic':2.5,\n",
    "\t        'e1':0,\n",
    "\t        'e2':0,\n",
    "\t        'center_x':0.0,\n",
    "\t        'center_y':0.0}\n",
    "    },\n",
    "    'cosmology':{\n",
    "        'parameters':{'cosmology_name': 'planck18'}\n",
    "    },\n",
    "    'psf':{\n",
    "        'parameters':{'psf_type':'NONE'}\n",
    "    },\n",
    "    'detector':{\n",
    "        'parameters':{'pixel_scale':0.04,'magnitude_zero_point':25,'exposure_time':5400,'read_noise':3.0,\n",
    "                      'ccd_gain':1.58,'sky_brightness':21.83}\n",
    "    },\n",
    "}"
   ]
  },
  {
   "cell_type": "markdown",
   "metadata": {},
   "source": [
    "Let's do a simple sanity check. If we use our COSMOSSersic source class, make sure that the componenets are added together properly."
   ]
  },
  {
   "cell_type": "code",
   "execution_count": null,
   "metadata": {},
   "outputs": [],
   "source": [
    "from manada.generate import draw_image\n",
    "\n",
    "sampler = Sampler(config_dict)\n",
    "sample = sampler.sample()\n",
    "\n",
    "main_deflector_class = config_dict['main_deflector']['class'](\n",
    "\t\t\tsample['main_deflector_parameters'],sample['cosmology_parameters'])\n",
    "#generates an image no PSF, no noise\n",
    "\n",
    "# use source_class = COSMOSCatalog\n",
    "# returns np.array of image & a dict of metadata\n",
    "source_class = COSMOSCatalog(sample['cosmology_parameters'],\n",
    "\t\t\t\t\t\t\tsample['source_parameters'])\n",
    "im1, metadata1 = draw_image(sample=sample,los_class=None,subhalo_class=None,\n",
    "\t\tmain_deflector_class=main_deflector_class, source_class=source_class,\n",
    "\t\tlens_light_class=None,point_source_class=None,numpix=numpix,multi_plane=False,\n",
    "\t\tkwargs_numerics=kwargs_numerics,mag_cut=1.0,add_noise=False, \n",
    "\t\tapply_psf=False)\n",
    "\n",
    "# use source_class = COSMOSSersic\n",
    "# returns np.array of image & a dict of metadata\n",
    "source_class = config_dict['source']['class'](\n",
    "\t\tsample['cosmology_parameters'],sample['source_parameters'])\n",
    "im2, metadata2 = draw_image(sample=sample,los_class=None,subhalo_class=None,\n",
    "\t\tmain_deflector_class=main_deflector_class, source_class=source_class,\n",
    "\t\tlens_light_class=None,point_source_class=None,numpix=numpix,multi_plane=False,\n",
    "\t\tkwargs_numerics=kwargs_numerics,mag_cut=1.0,add_noise=False, \n",
    "\t\tapply_psf=False)\n",
    "\n",
    "\n",
    "sampler_s = Sampler(config_dict_sersic)\n",
    "sample_s = sampler_s.sample()\n",
    "\n",
    "main_deflector_class = config_dict_sersic['main_deflector']['class'](\n",
    "\t\t\tsample_s['main_deflector_parameters'],sample_s['cosmology_parameters'])\n",
    "source_class = config_dict_sersic['source']['class'](\n",
    "\t\tsample_s['cosmology_parameters'],sample_s['source_parameters'])\n",
    "#generates an image no PSF, no noise\n",
    "\n",
    "# use source_class = COSMOSSersic\n",
    "# returns np.array of image & a dict of metadata\n",
    "im_s, metadata_s = draw_image(sample=sample_s,los_class=None,subhalo_class=None,\n",
    "\t\tmain_deflector_class=main_deflector_class, source_class=source_class,\n",
    "\t\tlens_light_class=None,point_source_class=None,numpix=numpix,multi_plane=False,\n",
    "\t\tkwargs_numerics=kwargs_numerics,mag_cut=1.0,add_noise=False, \n",
    "\t\tapply_psf=False)\n",
    "\n",
    "\n",
    "#plt.rcParams[\"figure.figsize\"] = (12,6)\n",
    "#norm=None\n",
    "norm=simple_norm(im2, stretch='log', min_cut=1e-3)\n",
    "# 3 images: COSMOS, COSMOS+Sersic, COSMOS+Sersic - COSMOS\n",
    "im3 = im2 - im1\n",
    "\n",
    "images = [im1, im2, im3, im_s]\n",
    "titles = ['COSMOS Only', 'COSMOS + Sersic', 'Subtracted Sersic', 'Original Sersic']\n",
    "\n",
    "\n",
    "f, ax = plt.subplots(1,4,figsize=(16,5),gridspec_kw={'hspace': 0.1})\n",
    "f.subplots_adjust(wspace=0.0)\n",
    "for i in range(0,4) :\n",
    "\tax[i].get_xaxis().set_visible(False)\n",
    "\tax[i].get_yaxis().set_visible(False)\n",
    "\tax[i].matshow(images[i], origin='lower', norm=norm, cmap='plasma')\n",
    "\tax[i].set_title(titles[i], fontsize=20)\n",
    "\n",
    "plt.show()"
   ]
  },
  {
   "cell_type": "markdown",
   "metadata": {},
   "source": [
    "__2. Adding a new class: PointSource__<a class=\"anchor\" id=\"point_source\"></a>\n",
    "\n",
    "Point sources must be treated differently than other light sources, so we can't use the existing Source class type. We define a new type, PointSource, that is optional to include in the configuration dictionary. The point source must be used along with a light source (such as a COSMOS host galaxy). We created a new source class located in the PointSource folder called SinglePointSource. \n",
    "\n",
    "Note, this changes how we call draw_image() in generate.py, because we now expect a point_source_class to be passed. If not used, we set this to None."
   ]
  },
  {
   "cell_type": "markdown",
   "metadata": {},
   "source": [
    "Generate a training set using the SinglePointSource class with a COSMOS host galaxy:"
   ]
  },
  {
   "cell_type": "code",
   "execution_count": null,
   "metadata": {},
   "outputs": [],
   "source": [
    "config_path = os.path.join(root_path,'notebooks/notebook_data/F21_notebook/config_PointSource.py')\n",
    "output_path = os.path.join(root_path,'notebooks/notebook_data/F21_notebook/PointSourceData')\n",
    "sys.argv = ['generate',config_path,output_path,'--n','10']\n",
    "manada.generate.main()"
   ]
  },
  {
   "cell_type": "markdown",
   "metadata": {},
   "source": [
    "Plot images of the new training set:"
   ]
  },
  {
   "cell_type": "code",
   "execution_count": null,
   "metadata": {},
   "outputs": [],
   "source": [
    "metadata = pd.read_csv(os.path.join(output_path,'metadata.csv'), index_col=None)\n",
    "\n",
    "nt=0\n",
    "image = np.load(os.path.join(output_path,'image_%07d.npy'%nt))\n",
    "#norm=simple_norm(image/np.max(image), stretch='asinh', min_cut=1e-4)\n",
    "\n",
    "#make a matrix and plot it once\n",
    "matrix = np.ones((3*128, 3*128))\n",
    "for i in range(0,3) :\n",
    "    left_i = i*128\n",
    "    right_i = i*128 +128\n",
    "    for j in range(0,3) :\n",
    "        left_j = j*128\n",
    "        right_j = j*128 + 128\n",
    "        image = np.load(os.path.join(output_path,'image_%07d.npy'%nt))\n",
    "        matrix[left_i:right_i,left_j:right_j]= image\n",
    "        nt+=1\n",
    "\n",
    "plt.figure(figsize=(8,8))\n",
    "plt.matshow(matrix,origin='lower',norm=norm,cmap='plasma',fignum=1)\n",
    "ax = plt.gca()\n",
    "ax.axes.xaxis.set_visible(False)\n",
    "ax.axes.yaxis.set_visible(False)\n",
    "m=0\n",
    "for i in range(0,3):\n",
    "    for j in range(0,3):\n",
    "        num_images = metadata.at[m,'point_source_parameters_num_images']\n",
    "        plt.text(j*128+20,i*128+115,'N Point Source Images: %0d'%num_images, color=\"snow\", fontsize=10)\n",
    "        m+=1\n",
    "plt.title('COSMOS Host Galaxy + Point Source Training Set')\n",
    "plt.show()"
   ]
  },
  {
   "cell_type": "markdown",
   "metadata": {},
   "source": [
    "Again, we want to generate single images to perform some sanity checks. Modify the existing config_dict to include a point source:"
   ]
  },
  {
   "cell_type": "code",
   "execution_count": null,
   "metadata": {},
   "outputs": [],
   "source": [
    "config_dict['point_source']  = {\n",
    "        'class': SinglePointSource,\n",
    "        'parameters':{\n",
    "            'x_point_source':0.,\n",
    "\t\t\t'y_point_source':0.,\n",
    "\t\t\t'magnitude':18.75,\n",
    "\t\t\t'output_ab_zeropoint':25.127,\n",
    "            'compute_time_delays':False}\n",
    "    }"
   ]
  },
  {
   "cell_type": "markdown",
   "metadata": {},
   "source": [
    "We want to verify the positions of the images from the point source using the COSMOSSersic source. Use a Sersic with high n_sersic and low R_sersic to generate a Sersic light distribution that is point source like. Verify that the images from the point source and the Sersic fall in the same place. "
   ]
  },
  {
   "cell_type": "code",
   "execution_count": null,
   "metadata": {},
   "outputs": [],
   "source": [
    "# change R_sersic, n_sersic, mag_sersic, point_source magnitude to generate image\n",
    "config_dict['source']['parameters']['R_sersic'] = 0.001\n",
    "config_dict['source']['parameters']['n_sersic'] = 6.5\n",
    "config_dict['source']['parameters']['mag_sersic'] = 21\n",
    "\n",
    "sampler = Sampler(config_dict)\n",
    "sample = sampler.sample()\n",
    "\n",
    "main_deflector_class = config_dict['main_deflector']['class'](\n",
    "\t\t\tsample['main_deflector_parameters'],sample['cosmology_parameters'])\n",
    "\n",
    "source_class = COSMOSCatalog(sample['cosmology_parameters'],\n",
    "\t\t\t\t\t\t\tsample['source_parameters'])\n",
    "point_source_class = SinglePointSource(sample['point_source_parameters'])\n",
    "im1, metadata1 = draw_image(sample=sample,los_class=None,subhalo_class=None,\n",
    "\t\tmain_deflector_class=main_deflector_class, source_class=source_class,\n",
    "\t\tlens_light_class=None,point_source_class=point_source_class,\n",
    "\t\tnumpix=numpix,multi_plane=False,kwargs_numerics=kwargs_numerics,\n",
    "\t\tmag_cut=1.0,add_noise=False, apply_psf=True)\n",
    "\t\n",
    "source_class = COSMOSSersic(sample['cosmology_parameters'],\n",
    "\t\t\t\t\t\t\tsample['source_parameters'])\n",
    "im2, metadata2 = draw_image(sample=sample,los_class=None,subhalo_class=None,\n",
    "\t\tmain_deflector_class=main_deflector_class, source_class=source_class,\n",
    "\t\tlens_light_class=None,point_source_class=None,\n",
    "\t\tnumpix=numpix,multi_plane=False,kwargs_numerics=kwargs_numerics,\n",
    "\t\tmag_cut=1.0,add_noise=False, apply_psf=True)\n",
    "\n",
    "\n",
    "#plt.rcParams[\"figure.figsize\"] = (12,6)\n",
    "\n",
    "images = [im1, im2]\n",
    "titles = ['COSMOS + Point Source', 'COSMOS + Sersic']\n",
    "norm=simple_norm(images[0], stretch='log', min_cut=1e-3)\n",
    "\n",
    "f, ax = plt.subplots(1,3,figsize=(16,5),gridspec_kw={'hspace': 0.1})\n",
    "f.subplots_adjust(wspace=0.0)\n",
    "for i in range(0,3) :\n",
    "\tax[i].get_xaxis().set_visible(False)\n",
    "\tax[i].get_yaxis().set_visible(False)\n",
    "\tif i < 2 :\n",
    "\t\tax[i].matshow(images[i], origin='lower',norm=norm, cmap='plasma')\n",
    "\t\tax[i].set_title(titles[i], fontsize=20)\n",
    "\telse :\n",
    "\t\tnorm=simple_norm(im2-im1, stretch='log', min_cut=1e-5)\n",
    "\t\tax[i].matshow(im2-im1, origin='lower', norm=norm, cmap='plasma')\n",
    "\t\tax[i].set_title('Difference (Right - Left)', fontsize=20)\n",
    "\n",
    "\n",
    "plt.show()\n",
    "\n"
   ]
  },
  {
   "cell_type": "markdown",
   "metadata": {},
   "source": [
    "Let's do another sanity check for the point source. If we have no lens mass, confirm that the total flux from the point source matches what we expect given the magnitude in the config_dict."
   ]
  },
  {
   "cell_type": "code",
   "execution_count": null,
   "metadata": {},
   "outputs": [],
   "source": [
    "from lenstronomy.Util.data_util import magnitude2cps\n",
    "\n",
    "config_dict['point_source']['parameters']['magnitude'] = 5\n",
    "config_dict['point_source']['parameters']['x_point_source'] = 0.001\n",
    "config_dict['point_source']['parameters']['y_point_source'] = 0.001\n",
    "# set mass = 0 so the lens effectively does nothing\n",
    "config_dict['main_deflector']['parameters']['theta_E'] = 0\n",
    "\n",
    "sampler = Sampler(config_dict)\n",
    "sample = sampler.sample()\n",
    "\n",
    "source_class = COSMOSCatalog(sample['cosmology_parameters'],\n",
    "\t\t\t\t\t\t\tsample['source_parameters'])\n",
    "point_source_class = SinglePointSource(sample['point_source_parameters'])\n",
    "main_deflector_class = config_dict['main_deflector']['class'](\n",
    "\t\t\tsample['main_deflector_parameters'],sample['cosmology_parameters'])\n",
    "\n",
    "# COSMOS+PointSource\n",
    "im1, metadata1 = draw_image(sample=sample,los_class=None,subhalo_class=None,\n",
    "\t\tmain_deflector_class=main_deflector_class, source_class=source_class,\n",
    "\t\tlens_light_class=None,point_source_class=point_source_class,\n",
    "\t\tnumpix=numpix,multi_plane=False,kwargs_numerics=kwargs_numerics,\n",
    "\t\tmag_cut=1.0,add_noise=False, apply_psf=False)\n",
    "# Just COSMOS\n",
    "im2, metadata2 = draw_image(sample=sample,los_class=None,subhalo_class=None,\n",
    "\t\tmain_deflector_class=main_deflector_class, source_class=source_class,\n",
    "\t\tlens_light_class=None,point_source_class=None,numpix=numpix,multi_plane=False,\n",
    "\t\tkwargs_numerics=kwargs_numerics,mag_cut=1.0,add_noise=False, \n",
    "\t\tapply_psf=False)\n",
    "\n",
    "# Just point source\n",
    "plt.rcParams[\"figure.figsize\"] = (5,5)\n",
    "im_ps = im1-im2\n",
    "plt.imshow(im_ps, cmap='plasma')\n",
    "plt.show()\n",
    "\n",
    "\n",
    "#im1 is a 2d array of surface brightness pixels\n",
    "flux_true = magnitude2cps(config_dict['point_source']['parameters']['magnitude'], config_dict['point_source']['parameters']['output_ab_zeropoint'])\n",
    "flux_image = np.sum(im_ps)\n",
    "\n",
    "print(\"True Flux: \", flux_true)\n",
    "print(\"Flux from image: \", flux_image)"
   ]
  },
  {
   "cell_type": "markdown",
   "metadata": {},
   "source": [
    "__3. Point Source Magnification Pertubations__<a class=\"anchor\" id=\"mag_pert\"></a>\n",
    "\n",
    "The next change implemented was to add capability to add magnification pertubations to images of a point source. This is an important effect to include, because all images are microlensed by objects along the light path, such as stars in the host galaxy. First, I added new capability to the Lenstronomy package to the SOURCE_POSITION Point Source type. This new capability allows the user to pass in a kwarg called 'mag_pert' (magnification pertubations), which is a list of fractional magnification errors that will be applied to each image. A demonstration of this added capability is included below."
   ]
  },
  {
   "cell_type": "markdown",
   "metadata": {},
   "source": [
    "Generating a new training set with this effect won't result in any changes noticeable to the human eye. Let's skip this step and use single images to demonstrate this capability."
   ]
  },
  {
   "cell_type": "markdown",
   "metadata": {},
   "source": [
    "Define a new configuration for generation of these images:"
   ]
  },
  {
   "cell_type": "code",
   "execution_count": null,
   "metadata": {},
   "outputs": [],
   "source": [
    "# define new config_dict\n",
    "numpix = 100\n",
    "kwargs_numerics = {'supersampling_factor':2}\n",
    "cosmos_folder = '/Users/smericks/Desktop/StrongLensing/COSMOS_23.5_training_sample/'\n",
    "\n",
    "config_dict= {\n",
    "    'main_deflector':{\n",
    "        'class': PEMD,\n",
    "        'parameters':{'z_lens': 0.5,'gamma': 2.0,'theta_E': 1.3,'e1': 0.05,'e2': -0.1,'center_x': 0.06,'center_y': 0.08}\n",
    "    },\n",
    "    'source':{\n",
    "        'class': COSMOSCatalog,\n",
    "        'parameters':{\n",
    "\t        'z_source':1.5,\n",
    "\t        'cosmos_folder':cosmos_folder,\n",
    "\t        'max_z':0.05,\n",
    "            'minimum_size_in_pixels':650,'min_apparent_mag':20,\n",
    "            'smoothing_sigma':0.08,'random_rotation':False,\n",
    "\t        'min_flux_radius':10.0,\n",
    "\t        'output_ab_zeropoint':25.127,}\n",
    "    },\n",
    "    'point_source':{\n",
    "        'class': SinglePointSource,\n",
    "        'parameters':{\n",
    "            'x_point_source':0.,\n",
    "\t\t\t'y_point_source':0.,\n",
    "\t\t\t'magnitude':23,\n",
    "\t\t\t'output_ab_zeropoint':25.127,\n",
    "            'compute_time_delays':False}\n",
    "    },\n",
    "    'cosmology':{\n",
    "        'parameters':{'cosmology_name': 'planck18'}\n",
    "    },\n",
    "    'psf':{\n",
    "\t\t'parameters':{\n",
    "\t\t\t'psf_type':'GAUSSIAN',\n",
    "\t\t\t'fwhm': 0.08\n",
    "\t\t}\n",
    "\t},\n",
    "    'detector':{\n",
    "        'parameters':{'pixel_scale':0.04,'magnitude_zero_point':25.127,'exposure_time':5400,'read_noise':3.0,\n",
    "                      'ccd_gain':1.58,'sky_brightness':21.83}\n",
    "    },\n",
    "}"
   ]
  },
  {
   "cell_type": "markdown",
   "metadata": {},
   "source": [
    "Show the same image before and after magnification pertubations are applied. Note that adding realistic pertubations won't result in any difference noticeable to the human eye, so a second case is included to make this change noticeable."
   ]
  },
  {
   "cell_type": "code",
   "execution_count": null,
   "metadata": {},
   "outputs": [],
   "source": [
    "# generate image w/ no magnification errors\n",
    "from scipy.stats import norm\n",
    "\n",
    "sampler = Sampler(config_dict)\n",
    "sample = sampler.sample()\n",
    "\n",
    "source_class = COSMOSCatalog(sample['cosmology_parameters'],\n",
    "\t\t\t\t\t\t\tsample['source_parameters'])\n",
    "point_source_class = SinglePointSource(sample['point_source_parameters'])\n",
    "main_deflector_class = config_dict['main_deflector']['class'](\n",
    "\t\t\tsample['main_deflector_parameters'],sample['cosmology_parameters'])\n",
    "\n",
    "im1, metadata1 = draw_image(sample=sample,los_class=None,subhalo_class=None,\n",
    "\t\tmain_deflector_class=main_deflector_class, source_class=source_class,\n",
    "\t\tlens_light_class=None,point_source_class=point_source_class,\n",
    "\t\tnumpix=numpix,multi_plane=False,kwargs_numerics=kwargs_numerics,\n",
    "\t\tmag_cut=1.0,add_noise=False, apply_psf=True)\n",
    "\n",
    "# generate image w/ magnification errors\n",
    "mag_pert = norm(1,0.2).rvs(size=5)\n",
    "config_dict['point_source']['parameters']['mag_pert'] = mag_pert\n",
    "print('mag_pert: ', config_dict['point_source']['parameters']['mag_pert'])\n",
    "sampler = Sampler(config_dict)\n",
    "sample = sampler.sample()\n",
    "point_source_class = SinglePointSource(sample['point_source_parameters'])\n",
    "\n",
    "im2, metadata2 = draw_image(sample=sample,los_class=None,subhalo_class=None,\n",
    "\t\tmain_deflector_class=main_deflector_class, source_class=source_class,\n",
    "\t\tlens_light_class=None,point_source_class=point_source_class,\n",
    "\t\tnumpix=numpix,multi_plane=False,kwargs_numerics=kwargs_numerics,\n",
    "\t\tmag_cut=1.0,add_noise=False, apply_psf=True)\n",
    "\n",
    "images = [im1, im2]\n",
    "titles = ['Before', 'After']\n",
    "norm=simple_norm(images[0], stretch='asinh', min_cut=1e-3)\n",
    "\n",
    "f, ax = plt.subplots(1,2,figsize=(12,5),gridspec_kw={'hspace': 0.1})\n",
    "f.subplots_adjust(wspace=0.0)\n",
    "for i in range(0,2) :\n",
    "\tax[i].get_xaxis().set_visible(False)\n",
    "\tax[i].get_yaxis().set_visible(False)\n",
    "\tax[i].matshow(images[i], origin='lower',norm=norm, cmap='plasma')\n",
    "\tax[i].set_title(titles[i], fontsize=15)\n",
    "\n",
    "plt.suptitle(\"Magnification Pertubations: [{:0.2f}, {:0.2f}, {:0.2f}, {:0.2f}]\".format(mag_pert[0], mag_pert[1], mag_pert[2], mag_pert[3]), fontsize=15)\n",
    "plt.show()\n",
    "\n",
    "mag_pert = [1.5, 0.5, 0.5, 0.5, 1]\n",
    "config_dict['point_source']['parameters']['mag_pert'] = mag_pert\n",
    "print('mag_pert: ', config_dict['point_source']['parameters']['mag_pert'])\n",
    "sampler = Sampler(config_dict)\n",
    "sample = sampler.sample()\n",
    "point_source_class = SinglePointSource(sample['point_source_parameters'])\n",
    "im2, metadata2 = draw_image(sample=sample,los_class=None,subhalo_class=None,\n",
    "\t\tmain_deflector_class=main_deflector_class, source_class=source_class,\n",
    "\t\tlens_light_class=None,point_source_class=point_source_class,\n",
    "\t\tnumpix=numpix,multi_plane=False,kwargs_numerics=kwargs_numerics,\n",
    "\t\tmag_cut=1.0,add_noise=False, apply_psf=True)\n",
    "\n",
    "images = [im1, im2]\n",
    "titles = ['Before', 'After']\n",
    "\n",
    "f, ax = plt.subplots(1,2,figsize=(12,5),gridspec_kw={'hspace': 0.1})\n",
    "f.subplots_adjust(wspace=0.0)\n",
    "for i in range(0,2) :\n",
    "\tax[i].get_xaxis().set_visible(False)\n",
    "\tax[i].get_yaxis().set_visible(False)\n",
    "\tax[i].matshow(images[i], origin='lower',norm=norm, cmap='plasma')\n",
    "\tax[i].set_title(titles[i], fontsize=15)\n",
    "\n",
    "plt.suptitle(\"Magnification Pertubations: [{:0.2f}, {:0.2f}, {:0.2f}, {:0.2f}]\".format(mag_pert[0], mag_pert[1], mag_pert[2], mag_pert[3]), fontsize=15)\n",
    "plt.show()\n",
    "\n"
   ]
  },
  {
   "cell_type": "markdown",
   "metadata": {},
   "source": [
    "__4. Adding Lens Light__<a class=\"anchor\" id=\"lens_light\"></a>\n",
    "\n",
    "The next step is to add lens light. We'll use the same light source classes defined for the source light, so there is no need to implement any new source classes. We simply change the generation process to include an option for lens light. "
   ]
  },
  {
   "cell_type": "markdown",
   "metadata": {},
   "source": [
    "Generate a new training set using SingleSersicSource lens light, SinglePointSource with magnification pertubations, and a COSMOS host galaxy:"
   ]
  },
  {
   "cell_type": "code",
   "execution_count": 31,
   "metadata": {},
   "outputs": [
    {
     "name": "stdout",
     "output_type": "stream",
     "text": [
      "Save folder path: /Users/smericks/Desktop/StrongLensing/manada/notebooks/notebook_data/F21_notebook/PointSourceLensLight\n"
     ]
    },
    {
     "name": "stderr",
     "output_type": "stream",
     "text": [
      "\n",
      "\u001b[A/Users/smericks/Desktop/StrongLensing/manada/manada/generate.py:561: RuntimeWarning: One or more parameters in config_dict cannot be serialized and will not be written to metadata.csv\n",
      "  elif SERIALIZATIONWARNING:\n",
      "  0%|          | 0/10 [1:42:18<?, ?it/s]\n",
      "\n",
      "\u001b[A\n",
      "\u001b[A\n",
      "\u001b[A\n",
      "100%|██████████| 10/10 [00:00<00:00, 17.85it/s]"
     ]
    },
    {
     "name": "stdout",
     "output_type": "stream",
     "text": [
      "Dataset generation complete. Acceptance rate: 1.000\n"
     ]
    },
    {
     "name": "stderr",
     "output_type": "stream",
     "text": [
      "\n"
     ]
    }
   ],
   "source": [
    "# use new configuration to generate training set\n",
    "config_path = os.path.join(root_path,'notebooks/notebook_data/F21_notebook/config_PointSourceLensLight.py')\n",
    "output_path = os.path.join(root_path,'notebooks/notebook_data/F21_notebook/PointSourceLensLight')\n",
    "sys.argv = ['generate',config_path,output_path,'--n','10']\n",
    "manada.generate.main()"
   ]
  },
  {
   "cell_type": "markdown",
   "metadata": {},
   "source": [
    "Plot images of the new training set:"
   ]
  },
  {
   "cell_type": "code",
   "execution_count": null,
   "metadata": {},
   "outputs": [],
   "source": [
    "# Load the metadata\n",
    "metadata = pd.read_csv(os.path.join(output_path,'metadata.csv'), index_col=None)\n",
    "\n",
    "# is this the best way to normalize?\n",
    "nt=0\n",
    "image = np.load(os.path.join(output_path,'image_%07d.npy'%nt))\n",
    "#norm=simple_norm(image/np.max(image), stretch='asinh', min_cut=1e-4)\n",
    "\n",
    "#make a matrix and plot it once\n",
    "matrix = np.ones((3*128, 3*128))\n",
    "for i in range(0,3) :\n",
    "    left_i = i*128\n",
    "    right_i = i*128 +128\n",
    "    for j in range(0,3) :\n",
    "        left_j = j*128\n",
    "        right_j = j*128 + 128\n",
    "        image = np.load(os.path.join(output_path,'image_%07d.npy'%nt))\n",
    "        matrix[left_i:right_i,left_j:right_j]= image\n",
    "        nt+=1\n",
    "\n",
    "plt.figure(figsize=(8,8))\n",
    "plt.matshow(matrix,origin='lower',norm=norm,cmap='plasma',fignum=1)\n",
    "ax = plt.gca()\n",
    "ax.axes.xaxis.set_visible(False)\n",
    "ax.axes.yaxis.set_visible(False)\n",
    "m=0\n",
    "for i in range(0,3):\n",
    "    for j in range(0,3):\n",
    "        num_images = metadata.at[m,'point_source_parameters_num_images']\n",
    "        td = metadata.at[m,'point_source_parameters_time_delay_1']\n",
    "        plt.text(j*128+30,i*128+117,'N Point Source Images: %0d'%num_images, color=\"snow\", fontsize=8)\n",
    "        plt.text(j*128+30,i*128+107,'Im 2 Time Delay: %0d'%td, color=\"snow\", fontsize=8)\n",
    "        m+=1\n",
    "plt.title('COSMOS Host Galaxy + Point Source + Lens Light Training Set')\n",
    "plt.show()"
   ]
  },
  {
   "cell_type": "markdown",
   "metadata": {},
   "source": [
    "Now, use single image generation to sanity check the results. We'll show a before and after of adding Sersic lens light or COSMOS lens light."
   ]
  },
  {
   "cell_type": "code",
   "execution_count": null,
   "metadata": {},
   "outputs": [],
   "source": [
    "from scipy.stats import norm\n",
    "# add lens light to the config_dict:\n",
    "\n",
    "config_dict['lens_light'] = {\n",
    "    'class': SingleSersicSource,\n",
    "    'parameters':{\n",
    "        'z_source':1.5,\n",
    "        'magnitude':23,\n",
    "        'output_ab_zeropoint':25.127,\n",
    "        'R_sersic':0.1,\n",
    "        'n_sersic':2.5,\n",
    "        'e1':0.5,\n",
    "        'e2':0,\n",
    "        'center_x':0.0,\n",
    "        'center_y':0.0}\n",
    "}\n",
    "\n",
    "# switch magnification errors back to normal\n",
    "mag_pert = norm(1,0.2).rvs(size=5)\n",
    "config_dict['point_source']['parameters']['mag_pert'] = mag_pert\n",
    "# generate new image\n",
    "sampler = Sampler(config_dict)\n",
    "sample = sampler.sample()\n",
    "lens_light_class = SingleSersicSource(sample['cosmology_parameters'], sample['lens_light_parameters'])\n",
    "point_source_class = SinglePointSource(sample['point_source_parameters'])\n",
    "im3, metadata3 = draw_image(sample=sample,los_class=None,subhalo_class=None,\n",
    "\t\tmain_deflector_class=main_deflector_class, source_class=source_class,\n",
    "\t\tlens_light_class=lens_light_class,point_source_class=point_source_class,\n",
    "\t\tnumpix=numpix,multi_plane=False,kwargs_numerics=kwargs_numerics,\n",
    "\t\tmag_cut=1.0,add_noise=False, apply_psf=True)\n",
    "\n",
    "images = [im1, im3]\n",
    "norm=simple_norm(images[0], stretch='asinh', min_cut=1e-3)\n",
    "f, ax = plt.subplots(1,2,figsize=(12,5),gridspec_kw={'hspace': 0.1})\n",
    "f.subplots_adjust(wspace=0.0)\n",
    "for i in range(0,2) :\n",
    "\tax[i].get_xaxis().set_visible(False)\n",
    "\tax[i].get_yaxis().set_visible(False)\n",
    "\tax[i].matshow(images[i], origin='lower',norm=norm, cmap='plasma')\n",
    "\tax[i].set_title(titles[i], fontsize=15)\n",
    "\n",
    "\n",
    "plt.suptitle(\"Include Point Source Magnification Errors & Sersic Lens Light\", fontsize=15)\n",
    "plt.show()\n"
   ]
  },
  {
   "cell_type": "code",
   "execution_count": null,
   "metadata": {},
   "outputs": [],
   "source": [
    "from scipy.stats import norm\n",
    "# add lens light to the config_dict:\n",
    "\n",
    "config_dict['lens_light'] = {\n",
    "    'class': COSMOSCatalog,\n",
    "\t'parameters':{\n",
    "        'minimum_size_in_pixels':650,\n",
    "        'min_apparent_mag':20,\n",
    "        'max_z':0.05,\n",
    "        'smoothing_sigma':0.08,\n",
    "        'cosmos_folder':cosmos_folder,\n",
    "        'random_rotation':True,\n",
    "        'min_flux_radius':10.0,\n",
    "        'output_ab_zeropoint':25.127,\n",
    "        'z_source':1.5}\n",
    "}\n",
    "\n",
    "# switch magnification errors back to normal\n",
    "mag_pert = norm(1,0.2).rvs(size=5)\n",
    "config_dict['point_source']['parameters']['mag_pert'] = mag_pert\n",
    "# generate new image\n",
    "sampler = Sampler(config_dict)\n",
    "sample = sampler.sample()\n",
    "lens_light_class = COSMOSCatalog(sample['cosmology_parameters'], sample['lens_light_parameters'])\n",
    "point_source_class = SinglePointSource(sample['point_source_parameters'])\n",
    "im3, metadata3 = draw_image(sample=sample,los_class=None,subhalo_class=None,\n",
    "\t\tmain_deflector_class=main_deflector_class, source_class=source_class,\n",
    "\t\tlens_light_class=lens_light_class,point_source_class=point_source_class,\n",
    "\t\tnumpix=numpix,multi_plane=False,kwargs_numerics=kwargs_numerics,\n",
    "\t\tmag_cut=1.0,add_noise=False, apply_psf=True)\n",
    "\n",
    "images = [im1, im3]\n",
    "norm=simple_norm(images[0], stretch='asinh', min_cut=1e-3)\n",
    "f, ax = plt.subplots(1,2,figsize=(12,5),gridspec_kw={'hspace': 0.1})\n",
    "f.subplots_adjust(wspace=0.0)\n",
    "for i in range(0,2) :\n",
    "\tax[i].get_xaxis().set_visible(False)\n",
    "\tax[i].get_yaxis().set_visible(False)\n",
    "\tax[i].matshow(images[i], origin='lower',norm=norm, cmap='plasma')\n",
    "\tax[i].set_title(titles[i], fontsize=15)\n",
    "\n",
    "\n",
    "plt.suptitle(\"Include Point Source Magnification Errors & COSMOS Lens Light\", fontsize=15)\n",
    "plt.show()"
   ]
  },
  {
   "cell_type": "markdown",
   "metadata": {},
   "source": [
    "__5. Computing Time Delays for Metadata__<a class=\"anchor\" id=\"time_delay\"></a>"
   ]
  },
  {
   "cell_type": "markdown",
   "metadata": {},
   "source": [
    "In order to infer H0, we need information outside of just the image itself. One key piece of information is the difference in arrival times for photons producing each of the images. We call this the relative time delay. When we are using a point source, we want the ability to calculate time delays when needed. We introduce two new parameters for the point_source in the config_dict: compute_time_delays and kappa_ext. compute_time_delays is a bool. When compute_time_delays = True, we will compute time delay information and add it to the metadata.csv. To compute the time delays, we also need to define a kappa_ext for the calculation. \n",
    "\n",
    "The lens light training set already includes time delay computation, let's see the results:"
   ]
  },
  {
   "cell_type": "code",
   "execution_count": null,
   "metadata": {},
   "outputs": [],
   "source": []
  },
  {
   "cell_type": "markdown",
   "metadata": {},
   "source": [
    "__6. Reproducing H0RTON Dataset__\n",
    "\n",
    "We use distributions specified in Park et. al 2021 to create a config file & generate a dataset. Let's see the results."
   ]
  },
  {
   "cell_type": "code",
   "execution_count": 10,
   "metadata": {},
   "outputs": [
    {
     "name": "stdout",
     "output_type": "stream",
     "text": [
      "Save folder path: /Users/smericks/Desktop/StrongLensing/manada/notebooks/notebook_data/H0RTON\n"
     ]
    },
    {
     "name": "stderr",
     "output_type": "stream",
     "text": [
      "\n",
      "\u001b[A\n",
      "100%|██████████| 10/10 [00:00<00:00, 71.61it/s]"
     ]
    },
    {
     "name": "stdout",
     "output_type": "stream",
     "text": [
      "Dataset generation complete. Acceptance rate: 1.000\n"
     ]
    },
    {
     "name": "stderr",
     "output_type": "stream",
     "text": [
      "\n"
     ]
    }
   ],
   "source": [
    "config_path = os.path.join(root_path,'manada/Configs/config_horton.py')\n",
    "output_path = os.path.join(root_path,'notebooks/notebook_data/H0RTON')\n",
    "sys.argv = ['generate',config_path,output_path,'--n','10']\n",
    "manada.generate.main()"
   ]
  },
  {
   "cell_type": "code",
   "execution_count": 15,
   "metadata": {},
   "outputs": [
    {
     "data": {
      "image/png": "[encoded data removed]",
      "text/plain": [
       "<Figure size 576x576 with 1 Axes>"
      ]
     },
     "metadata": {
      "needs_background": "light"
     },
     "output_type": "display_data"
    }
   ],
   "source": [
    "metadata = pd.read_csv(os.path.join(output_path,'metadata.csv'), index_col=None)\n",
    "\n",
    "# is this the best way to normalize?\n",
    "nt=0\n",
    "image = np.load(os.path.join(output_path,'image_%07d.npy'%nt))\n",
    "norm=simple_norm(image/np.max(image), stretch='asinh', min_cut=1e-4)\n",
    "#norm = None\n",
    "npx = 64\n",
    "\n",
    "#make a matrix and plot it once\n",
    "matrix = np.ones((3*npx, 3*npx))\n",
    "for i in range(0,3) :\n",
    "    left_i = i*npx\n",
    "    right_i = i*npx +npx\n",
    "    for j in range(0,3) :\n",
    "        left_j = j*npx\n",
    "        right_j = j*npx + npx\n",
    "        image = np.load(os.path.join(output_path,'image_%07d.npy'%nt))\n",
    "        matrix[left_i:right_i,left_j:right_j]= image\n",
    "        nt+=1\n",
    "\n",
    "plt.figure(figsize=(8,8))\n",
    "plt.matshow(matrix,origin='lower',norm=norm,cmap='plasma',fignum=1)\n",
    "ax = plt.gca()\n",
    "ax.axes.xaxis.set_visible(False)\n",
    "ax.axes.yaxis.set_visible(False)\n",
    "m=0\n",
    "for i in range(0,3):\n",
    "    for j in range(0,3):\n",
    "        num_images = metadata.at[m,'point_source_parameters_num_images']\n",
    "        td = metadata.at[m,'point_source_parameters_time_delay_1']\n",
    "        plt.text(j*npx+30,i*npx+npx-11,'N Point Source Images: %0d'%num_images, color=\"snow\", fontsize=8)\n",
    "        plt.text(j*npx+30,i*npx+npx-21,'Im 2 Time Delay: %0d'%td, color=\"snow\", fontsize=8)\n",
    "        m+=1\n",
    "plt.title('H0RTON Configuration')\n",
    "plt.show()"
   ]
  },
  {
   "cell_type": "code",
   "execution_count": null,
   "metadata": {},
   "outputs": [],
   "source": []
  }
 ],
 "metadata": {
  "interpreter": {
   "hash": "9d5618ee9d93179d1442221b64d11b05e1bb41390beb758f1a55b5dbc1cfb010"
  },
  "kernelspec": {
   "display_name": "Python 3.9.7 64-bit ('myenv': conda)",
   "name": "python3"
  },
  "language_info": {
   "codemirror_mode": {
    "name": "ipython",
    "version": 3
   },
   "file_extension": ".py",
   "mimetype": "text/x-python",
   "name": "python",
   "nbconvert_exporter": "python",
   "pygments_lexer": "ipython3",
   "version": "3.9.7"
  }
 },
 "nbformat": 4,
 "nbformat_minor": 2
}
