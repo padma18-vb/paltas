{
 "cells": [
  {
   "cell_type": "markdown",
   "metadata": {},
   "source": [
    "# Understanding Main Deflector Modeling Residuals\n",
    "\n",
    "__Author:__ Sebastian Wagner-Carena\n",
    "\n",
    "__Goals:__ Understand what the residuals look like after attempting to fit a smooth lens model to a deflector that include substructure contributions. "
   ]
  },
  {
   "cell_type": "markdown",
   "metadata": {},
   "source": [
    "One powerful data vector we have in the detection of substructure in strong lensing is the residual left after modeling away the smooth lens potential of the main deflector. In theory, the remaining signal can only be described by small scale, localized variations in the deflection field - a sign that there is substructure in our model. It is therefore tempting to use these residual maps as inputs to a machine learning based approach to substructure detection; in theory, this can even make your training agnostic to the exact lens model being subtracted. \n",
    "\n",
    "However, modeling and subtracting the main deflector can take dozens of CPU hours even with well optimized code. A tempting workaround is to produce two images: one that includes only the main deflector and one that includes the main deflector with its substrcuture. One can then subtract the main deflector only image from the substructure image and be left with what appears to be a reasonable residual. However, as we will see in these examples, this type of residual can produce a substantial training bias. With subtructure, __the true input lens is not the lens that would be returned by forward modeling__. The presence of substructure creates an overall increase in the total mass of the main deflector which is __degenerate with the einstein radius__ of the smooth lens model. \n",
    "\n",
    "In this notebook we will explore that degeneracy and show how one can create more realistic residual maps for the purposes of training."
   ]
  },
  {
   "cell_type": "markdown",
   "metadata": {},
   "source": [
    "### Generating a Lens Image with substructure"
   ]
  },
  {
   "cell_type": "markdown",
   "metadata": {},
   "source": [
    "The first step is to generate a lensing image with substructure. In order to best illustrate the dangers of the erronous approach to residual maps outlined above, we will use a fairly flexible lens model - the __power law elliptical mass distribution (PEMD)__.\n",
    "\n",
    "For the substructure, we will use the "
   ]
  },
  {
   "cell_type": "code",
   "execution_count": null,
   "metadata": {},
   "outputs": [],
   "source": []
  }
 ],
 "metadata": {
  "kernelspec": {
   "display_name": "Python 3",
   "language": "python",
   "name": "python3"
  },
  "language_info": {
   "codemirror_mode": {
    "name": "ipython",
    "version": 3
   },
   "file_extension": ".py",
   "mimetype": "text/x-python",
   "name": "python",
   "nbconvert_exporter": "python",
   "pygments_lexer": "ipython3",
   "version": "3.7.6"
  }
 },
 "nbformat": 4,
 "nbformat_minor": 4
}
