{
 "cells": [
  {
   "cell_type": "code",
   "execution_count": 16,
   "metadata": {},
   "outputs": [],
   "source": [
    "import os\n",
    "import paltas\n",
    "from astropy.visualization import simple_norm\n",
    "import visualization_utils\n",
    "from paltas import generate\n",
    "import numpy as np\n",
    "import matplotlib.pyplot as plt\n",
    "import pandas as pd\n",
    "\n",
    "SMALL_SIZE = 16\n",
    "MEDIUM_SIZE = 18\n",
    "BIGGER_SIZE = 20\n",
    "\n",
    "\n",
    "plt.rc('font', size=SMALL_SIZE)          # controls default text sizes\n",
    "plt.rc('axes', titlesize=BIGGER_SIZE)    # fontsize of the axes title\n",
    "plt.rc('axes', labelsize=MEDIUM_SIZE)    # fontsize of the x and y labels\n",
    "plt.rc('xtick', labelsize=SMALL_SIZE)    # fontsize of the tick labels\n",
    "plt.rc('ytick', labelsize=SMALL_SIZE)    # fontsize of the tick labels\n",
    "plt.rc('legend', fontsize=SMALL_SIZE)    # legend fontsize\n",
    "plt.rc('figure', titlesize=BIGGER_SIZE)  # fontsize of the figure title\n",
    "\n",
    "%matplotlib inline\n",
    "root_path = paltas.__path__[0][:-7]\n",
    "import re"
   ]
  },
  {
   "cell_type": "code",
   "execution_count": 17,
   "metadata": {},
   "outputs": [
    {
     "name": "stdout",
     "output_type": "stream",
     "text": [
      "The autoreload extension is already loaded. To reload it, use:\n",
      "  %reload_ext autoreload\n"
     ]
    }
   ],
   "source": [
    "%load_ext autoreload\n",
    "%autoreload 2\n",
    "%matplotlib inline\n"
   ]
  },
  {
   "cell_type": "markdown",
   "metadata": {},
   "source": [
    "### paltas PSF library"
   ]
  },
  {
   "cell_type": "code",
   "execution_count": 18,
   "metadata": {},
   "outputs": [],
   "source": [
    "# psf_im = np.load('data/psf_images.npy', mmap_mode='r+')"
   ]
  },
  {
   "cell_type": "code",
   "execution_count": 19,
   "metadata": {},
   "outputs": [],
   "source": [
    "# psf_im_i = psf_im[:, 1, :, :]"
   ]
  },
  {
   "cell_type": "code",
   "execution_count": 20,
   "metadata": {},
   "outputs": [],
   "source": [
    "# # index = np.random.randint(0, psf_im_i.shape[0])\n",
    "# index = 0\n",
    "# psf_kernels = psf_im_i[index, :, :]\n",
    "# psf_kernels[psf_kernels<0] = 0\n",
    "# plt.imshow(psf_kernels);"
   ]
  },
  {
   "cell_type": "code",
   "execution_count": 21,
   "metadata": {},
   "outputs": [],
   "source": [
    "# psf_sums = np.sum(psf_im_i,axis=(1,2))"
   ]
  },
  {
   "cell_type": "code",
   "execution_count": 22,
   "metadata": {},
   "outputs": [],
   "source": [
    "# psf_sums = psf_sums.reshape(-1,1,1)"
   ]
  },
  {
   "cell_type": "code",
   "execution_count": 23,
   "metadata": {},
   "outputs": [],
   "source": [
    "# normalized = psf_im_i/psf_sums\n",
    "# normalized"
   ]
  },
  {
   "cell_type": "code",
   "execution_count": 24,
   "metadata": {},
   "outputs": [],
   "source": [
    "# import tensorflow as tf\n",
    "# normalized = tf.constant(normalized)\n",
    "# pad_tns = tf.constant([[0, 0],[0,1],[0,1]])\n",
    "# # -----------padding: ^first_dim^\n",
    "# # ------------------------padding: ^second_dim^\n",
    "# # ---------------------------------------padding: ^third_dim^\n",
    "\n",
    "# # Generating padded Tensor\n",
    "# res = tf.pad(normalized, pad_tns, mode ='CONSTANT', constant_values=0)\n",
    "# print(res.shape)\n"
   ]
  },
  {
   "cell_type": "code",
   "execution_count": 25,
   "metadata": {},
   "outputs": [],
   "source": [
    "# np.save('data/norm_resize_psf.npy', res)"
   ]
  },
  {
   "cell_type": "markdown",
   "metadata": {},
   "source": []
  },
  {
   "cell_type": "code",
   "execution_count": 26,
   "metadata": {},
   "outputs": [],
   "source": [
    "# #plt.hist(normalized[0, :, 17], alpha=0.5)\n",
    "\n",
    "# #plt.hist(normalized[0, :, 16], alpha = 0.5)\n",
    "# plt.plot(normalized[0, :, 15], alpha=0.5, label=15)\n",
    "# plt.plot(normalized[0, :, 16], alpha=0.5, label=16)\n",
    "# plt.plot(normalized[0, :, 17], alpha=0.5, label=17)\n",
    "# plt.plot(normalized[0, :, 18], alpha=0.5, label=18)\n",
    "# plt.axvline(32//2)\n",
    "# plt.legend()"
   ]
  },
  {
   "cell_type": "code",
   "execution_count": 27,
   "metadata": {},
   "outputs": [],
   "source": [
    "# #plt.hist(normalized[0, :, 17], alpha=0.5)\n",
    "\n",
    "# #plt.hist(normalized[0, :, 16], alpha = 0.5)\n",
    "# plt.plot(normalized[0, 15, :], alpha=0.5, label=15)\n",
    "# plt.plot(normalized[0, 16, :], alpha=0.5, label=16)\n",
    "# plt.plot(normalized[0, 17, :], alpha=0.5, label=17)\n",
    "# plt.plot(normalized[0, 18, :], alpha=0.5, label=18)\n",
    "# plt.axvline(32//2)\n",
    "# plt.legend()"
   ]
  },
  {
   "cell_type": "code",
   "execution_count": 28,
   "metadata": {},
   "outputs": [],
   "source": [
    "# fig, ax = plt.subplots(1, 1, figsize=(6, 6))\n",
    "# # ax[0].imshow(normalized_resized[0, :, :])\n",
    "# ax.imshow(normalized[0, :, :])\n",
    "# # ax[0].set_title('resized PSF: 31x31')\n",
    "# ax.set_title('original PSF: 32x32')"
   ]
  },
  {
   "cell_type": "code",
   "execution_count": 29,
   "metadata": {},
   "outputs": [],
   "source": [
    "# plt.hist(psf_sums.flatten(), density=True, bins=100);\n",
    "# plt.title(\"PSF Sum Distribution\")\n",
    "# plt.xlabel(\"Sum of pixel in PSF kernel\");"
   ]
  },
  {
   "cell_type": "markdown",
   "metadata": {},
   "source": [
    "### Generate"
   ]
  },
  {
   "cell_type": "code",
   "execution_count": 30,
   "metadata": {},
   "outputs": [],
   "source": [
    "config_file = 'config_LSST'"
   ]
  },
  {
   "cell_type": "code",
   "execution_count": 31,
   "metadata": {},
   "outputs": [
    {
     "name": "stdout",
     "output_type": "stream",
     "text": [
      "Available Keys:\n",
      "dict_keys(['lens_model_list', 'lens_redshift_list', 'lens_light_model_list', 'point_source_model_list', 'source_light_model_list', 'source_redshift_list', 'multi_plane', 'z_source', 'z_source_convention'])\n",
      "dict_keys(['kwargs_lens', 'kwargs_lens_light', 'kwargs_ps', 'kwargs_source'])\n",
      "\n",
      "lens_model_list\n",
      "['EPL_NUMBA', 'SHEAR']\n",
      "kwargs_lens\n",
      "\n",
      "[{'R_sersic': 1.9863241533482103, 'center_x': -0.04807061801380639, 'center_y': 0.031019165385334415, 'e1': 0.08691509777166688, 'e2': -0.3663599373040671, 'n_sersic': 4.00663338542782, 'amp': 18.06988867816081}]\n"
     ]
    }
   ],
   "source": [
    "from paltas.Configs.config_handler import ConfigHandler\n",
    "\n",
    "# We'll pass one of our example Configs in\n",
    "config_handler = ConfigHandler(os.path.join(root_path,'paltas/notebooks/config_LSST.py'))\n",
    "\n",
    "# First let's get the lenstronomy model lists, kwargs lists, and redshift lists.\n",
    "kwargs_model, kwargs_params = config_handler.get_lenstronomy_models_kwargs()\n",
    "\n",
    "# We can see what keys are returned, and inspect the lens models in particular\n",
    "print('Available Keys:')\n",
    "print(kwargs_model.keys())\n",
    "print(kwargs_params.keys())\n",
    "print('')\n",
    "\n",
    "print('lens_model_list')\n",
    "print(kwargs_model['lens_model_list'])\n",
    "print('kwargs_lens')\n",
    "print()\n",
    "print(kwargs_params['kwargs_lens_light'])\n"
   ]
  },
  {
   "cell_type": "code",
   "execution_count": 32,
   "metadata": {},
   "outputs": [
    {
     "data": {
      "text/plain": [
       "0.35690688101743245"
      ]
     },
     "execution_count": 32,
     "metadata": {},
     "output_type": "execute_result"
    }
   ],
   "source": [
    "kwargs_params['kwargs_lens'][0]['theta_E']"
   ]
  },
  {
   "cell_type": "code",
   "execution_count": 33,
   "metadata": {},
   "outputs": [],
   "source": [
    "img, prop = config_handler.draw_image(new_sample=True)"
   ]
  },
  {
   "cell_type": "code",
   "execution_count": 34,
   "metadata": {},
   "outputs": [
    {
     "data": {
      "text/plain": [
       "<matplotlib.image.AxesImage at 0x283b58050>"
      ]
     },
     "execution_count": 34,
     "metadata": {},
     "output_type": "execute_result"
    },
    {
     "data": {
      "image/png": "[encoded data removed]",
      "text/plain": [
       "<Figure size 640x480 with 1 Axes>"
      ]
     },
     "metadata": {},
     "output_type": "display_data"
    }
   ],
   "source": [
    "plt.imshow(img)"
   ]
  },
  {
   "cell_type": "code",
   "execution_count": 35,
   "metadata": {},
   "outputs": [],
   "source": [
    "# command = f'python3 ../paltas/generate.py {config_file}.py generated_images/test/{config_file} --n 1556 --tf_record'"
   ]
  },
  {
   "cell_type": "code",
   "execution_count": 37,
   "metadata": {},
   "outputs": [
    {
     "data": {
      "text/plain": [
       "'config_LSST'"
      ]
     },
     "execution_count": 37,
     "metadata": {},
     "output_type": "execute_result"
    }
   ],
   "source": [
    "# os.system(command = command)\n",
    "config_file"
   ]
  },
  {
   "cell_type": "code",
   "execution_count": 39,
   "metadata": {},
   "outputs": [],
   "source": [
    "command = f'python3 ../paltas/generate.py {config_file}.py generated_images/train_with_lens/{config_file} --n 100000 --tf_record --h5'"
   ]
  },
  {
   "cell_type": "code",
   "execution_count": 40,
   "metadata": {},
   "outputs": [
    {
     "name": "stderr",
     "output_type": "stream",
     "text": [
      "/Users/padmavenkatraman/Documents/StrongLensing/silver/lib/python3.11/site-packages/numba/core/decorators.py:262: NumbaDeprecationWarning: numba.generated_jit is deprecated. Please see the documentation at: https://numba.readthedocs.io/en/stable/reference/deprecation.html#deprecation-of-generated-jit for more information and advice on a suitable replacement.\n",
      "  warnings.warn(msg, NumbaDeprecationWarning)\n"
     ]
    },
    {
     "name": "stdout",
     "output_type": "stream",
     "text": [
      "Save folder path: generated_images/train_with_lens/config_LSST\n"
     ]
    },
    {
     "name": "stderr",
     "output_type": "stream",
     "text": [
      "/Users/padmavenkatraman/Documents/StrongLensing/paltas/paltas/Sampling/sampler.py:113: UserWarning: Parameter center_x in cross dict specified elsewhere! Will be overwritten. This warning only flags once, but other parameters may also be overwritten.\n",
      "  warnings.warn('Parameter %s in cross dict specified '%(param)\n",
      "  0%|          | 0/100000 [00:00<?, ?it/s]/Users/padmavenkatraman/Documents/StrongLensing/paltas/paltas/Configs/config_handler.py:376: RuntimeWarning: Parameter (psf_parameters, kernel_point_source) in config_dict, and possibly others, will not be written to metadata.csv\n",
      "  warnings.warn(\n",
      "100%|██████████| 100000/100000 [19:45<00:00, 84.36it/s]\n"
     ]
    },
    {
     "name": "stdout",
     "output_type": "stream",
     "text": [
      "Dataset generation complete. Acceptance rate: 1.000\n",
      "Saving 100000 files into the tf record\n"
     ]
    },
    {
     "name": "stderr",
     "output_type": "stream",
     "text": [
      "  4%|▍         | 4188/100000 [9:06:53<211:13:25,  7.94s/it]"
     ]
    }
   ],
   "source": [
    "os.system(command = command)\n"
   ]
  },
  {
   "cell_type": "code",
   "execution_count": 1,
   "metadata": {},
   "outputs": [],
   "source": [
    "import paltas.Analysis.dataset_generation as dg"
   ]
  },
  {
   "cell_type": "code",
   "execution_count": 13,
   "metadata": {},
   "outputs": [
    {
     "name": "stdout",
     "output_type": "stream",
     "text": [
      "Saving 100000 files into the tf record\n"
     ]
    },
    {
     "name": "stderr",
     "output_type": "stream",
     "text": [
      "  0%|          | 1/100000 [00:15<437:17:52, 15.74s/it]\n"
     ]
    },
    {
     "ename": "KeyboardInterrupt",
     "evalue": "",
     "output_type": "error",
     "traceback": [
      "\u001b[0;31m---------------------------------------------------------------------------\u001b[0m",
      "\u001b[0;31mKeyboardInterrupt\u001b[0m                         Traceback (most recent call last)",
      "\u001b[1;32m/Users/padmavenkatraman/Documents/StrongLensing/paltas/notebooks/lsst_exploration.ipynb Cell 28\u001b[0m line \u001b[0;36m1\n\u001b[0;32m----> <a href='vscode-notebook-cell:/Users/padmavenkatraman/Documents/StrongLensing/paltas/notebooks/lsst_exploration.ipynb#X52sZmlsZQ%3D%3D?line=0'>1</a>\u001b[0m dg\u001b[39m.\u001b[39;49mgenerate_tf_record(\u001b[39m'\u001b[39;49m\u001b[39mgenerated_images/train_with_lens/config_LSST/\u001b[39;49m\u001b[39m'\u001b[39;49m,[\u001b[39m'\u001b[39;49m\u001b[39mmain_deflector_parameters_theta_E\u001b[39;49m\u001b[39m'\u001b[39;49m,\n\u001b[1;32m      <a href='vscode-notebook-cell:/Users/padmavenkatraman/Documents/StrongLensing/paltas/notebooks/lsst_exploration.ipynb#X52sZmlsZQ%3D%3D?line=1'>2</a>\u001b[0m \t\u001b[39m'\u001b[39;49m\u001b[39mmain_deflector_parameters_gamma1\u001b[39;49m\u001b[39m'\u001b[39;49m,\u001b[39m'\u001b[39;49m\u001b[39mmain_deflector_parameters_gamma2\u001b[39;49m\u001b[39m'\u001b[39;49m,\n\u001b[1;32m      <a href='vscode-notebook-cell:/Users/padmavenkatraman/Documents/StrongLensing/paltas/notebooks/lsst_exploration.ipynb#X52sZmlsZQ%3D%3D?line=2'>3</a>\u001b[0m \t\u001b[39m'\u001b[39;49m\u001b[39mmain_deflector_parameters_gamma\u001b[39;49m\u001b[39m'\u001b[39;49m,\u001b[39m'\u001b[39;49m\u001b[39mmain_deflector_parameters_e1\u001b[39;49m\u001b[39m'\u001b[39;49m,\n\u001b[1;32m      <a href='vscode-notebook-cell:/Users/padmavenkatraman/Documents/StrongLensing/paltas/notebooks/lsst_exploration.ipynb#X52sZmlsZQ%3D%3D?line=3'>4</a>\u001b[0m \t\u001b[39m'\u001b[39;49m\u001b[39mmain_deflector_parameters_e2\u001b[39;49m\u001b[39m'\u001b[39;49m,\u001b[39m'\u001b[39;49m\u001b[39mmain_deflector_parameters_center_x\u001b[39;49m\u001b[39m'\u001b[39;49m,\n\u001b[1;32m      <a href='vscode-notebook-cell:/Users/padmavenkatraman/Documents/StrongLensing/paltas/notebooks/lsst_exploration.ipynb#X52sZmlsZQ%3D%3D?line=4'>5</a>\u001b[0m \t\u001b[39m'\u001b[39;49m\u001b[39mmain_deflector_parameters_center_y\u001b[39;49m\u001b[39m'\u001b[39;49m],\u001b[39m'\u001b[39;49m\u001b[39mgenerated_images/train_with_lens/config_LSST/metadata.csv\u001b[39;49m\u001b[39m'\u001b[39;49m,\n\u001b[1;32m      <a href='vscode-notebook-cell:/Users/padmavenkatraman/Documents/StrongLensing/paltas/notebooks/lsst_exploration.ipynb#X52sZmlsZQ%3D%3D?line=5'>6</a>\u001b[0m \t\u001b[39m'\u001b[39;49m\u001b[39mgenerated_images/train_with_lens/config_LSST/data.tfrecord\u001b[39;49m\u001b[39m'\u001b[39;49m,h5\u001b[39m=\u001b[39;49m\u001b[39mTrue\u001b[39;49;00m)\n",
      "File \u001b[0;32m~/Documents/StrongLensing/paltas/paltas/Analysis/dataset_generation.py:199\u001b[0m, in \u001b[0;36mgenerate_tf_record\u001b[0;34m(npy_folder, learning_params, metadata_path, tf_record_path, h5)\u001b[0m\n\u001b[1;32m    197\u001b[0m \u001b[39mif\u001b[39;00m h5:\n\u001b[1;32m    198\u001b[0m \tindex \u001b[39m=\u001b[39m \u001b[39mint\u001b[39m(file_number)\n\u001b[0;32m--> 199\u001b[0m \timage \u001b[39m=\u001b[39m f[\u001b[39m'\u001b[39;49m\u001b[39mdata\u001b[39;49m\u001b[39m'\u001b[39;49m][()][index]\n\u001b[1;32m    200\u001b[0m \timage_shape \u001b[39m=\u001b[39m image\u001b[39m.\u001b[39mshape\n\u001b[1;32m    201\u001b[0m \u001b[39melse\u001b[39;00m:\n",
      "File \u001b[0;32mh5py/_objects.pyx:54\u001b[0m, in \u001b[0;36mh5py._objects.with_phil.wrapper\u001b[0;34m()\u001b[0m\n",
      "File \u001b[0;32mh5py/_objects.pyx:55\u001b[0m, in \u001b[0;36mh5py._objects.with_phil.wrapper\u001b[0;34m()\u001b[0m\n",
      "File \u001b[0;32m~/Documents/StrongLensing/silver/lib/python3.11/site-packages/h5py/_hl/dataset.py:758\u001b[0m, in \u001b[0;36mDataset.__getitem__\u001b[0;34m(self, args, new_dtype)\u001b[0m\n\u001b[1;32m    756\u001b[0m \u001b[39mif\u001b[39;00m \u001b[39mself\u001b[39m\u001b[39m.\u001b[39m_fast_read_ok \u001b[39mand\u001b[39;00m (new_dtype \u001b[39mis\u001b[39;00m \u001b[39mNone\u001b[39;00m):\n\u001b[1;32m    757\u001b[0m     \u001b[39mtry\u001b[39;00m:\n\u001b[0;32m--> 758\u001b[0m         \u001b[39mreturn\u001b[39;00m \u001b[39mself\u001b[39;49m\u001b[39m.\u001b[39;49m_fast_reader\u001b[39m.\u001b[39;49mread(args)\n\u001b[1;32m    759\u001b[0m     \u001b[39mexcept\u001b[39;00m \u001b[39mTypeError\u001b[39;00m:\n\u001b[1;32m    760\u001b[0m         \u001b[39mpass\u001b[39;00m  \u001b[39m# Fall back to Python read pathway below\u001b[39;00m\n",
      "\u001b[0;31mKeyboardInterrupt\u001b[0m: "
     ]
    }
   ],
   "source": [
    "dg.generate_tf_record('generated_images/train_with_lens/config_LSST/',['main_deflector_parameters_theta_E',\n",
    "\t'main_deflector_parameters_gamma1','main_deflector_parameters_gamma2',\n",
    "\t'main_deflector_parameters_gamma','main_deflector_parameters_e1',\n",
    "\t'main_deflector_parameters_e2','main_deflector_parameters_center_x',\n",
    "\t'main_deflector_parameters_center_y'],'generated_images/train_with_lens/config_LSST/metadata.csv',\n",
    "\t'generated_images/train_with_lens/config_LSST/data.tfrecord',h5=True)"
   ]
  },
  {
   "cell_type": "code",
   "execution_count": 8,
   "metadata": {},
   "outputs": [],
   "source": [
    "import paltas.Sampling.distributions as dist\n",
    "from scipy.stats import norm, truncnorm, uniform\n",
    "import matplotlib.pyplot as plt\n"
   ]
  },
  {
   "cell_type": "code",
   "execution_count": 12,
   "metadata": {},
   "outputs": [
    {
     "data": {
      "text/plain": [
       "(array([ 20.,  52., 104., 174., 234., 182., 122.,  80.,  22.,  10.]),\n",
       " array([-1.29682031, -1.02093001, -0.7450397 , -0.46914939, -0.19325908,\n",
       "         0.08263123,  0.35852154,  0.63441185,  0.91030215,  1.18619246,\n",
       "         1.46208277]),\n",
       " <BarContainer object of 10 artists>)"
      ]
     },
     "execution_count": 12,
     "metadata": {},
     "output_type": "execute_result"
    },
    {
     "data": {
      "image/png": "[encoded data removed]",
      "text/plain": [
       "<Figure size 640x480 with 1 Axes>"
      ]
     },
     "metadata": {},
     "output_type": "display_data"
    }
   ],
   "source": [
    "\n",
    "plt.hist(norm(loc=0,scale=0.5).rvs(size=1000))"
   ]
  },
  {
   "cell_type": "code",
   "execution_count": null,
   "metadata": {},
   "outputs": [],
   "source": []
  },
  {
   "cell_type": "code",
   "execution_count": 35,
   "metadata": {},
   "outputs": [],
   "source": [
    "config_file_path = f'generated_images/no_lens/{config_file}/'\n",
    "\n",
    "file_list = [os.path.join(config_file_path, i) for i in os.listdir(config_file_path)]\n",
    "names = np.arange(100).astype(str)\n"
   ]
  },
  {
   "cell_type": "code",
   "execution_count": 36,
   "metadata": {},
   "outputs": [],
   "source": [
    "df = pd.read_csv(f'generated_images/no_lens/{config_file}/metadata.csv', index_col=0)"
   ]
  },
  {
   "cell_type": "code",
   "execution_count": 37,
   "metadata": {},
   "outputs": [
    {
     "data": {
      "text/plain": [
       "array(['70', '71', '72', '73', '74', '75', '76', '77', '78', '79', '80',\n",
       "       '81', '82', '83', '84', '85', '86', '87', '88', '89', '90', '91',\n",
       "       '92', '93'], dtype='<U21')"
      ]
     },
     "execution_count": 37,
     "metadata": {},
     "output_type": "execute_result"
    }
   ],
   "source": [
    "start_index = np.random.randint(0, 100 - 24)\n",
    "picked_files = file_list[start_index:start_index + 24]\n",
    "picked_names = names[start_index:start_index + 24]\n",
    "picked_names"
   ]
  },
  {
   "cell_type": "code",
   "execution_count": 26,
   "metadata": {},
   "outputs": [
    {
     "ename": "NameError",
     "evalue": "name 'picked_files' is not defined",
     "output_type": "error",
     "traceback": [
      "\u001b[0;31m---------------------------------------------------------------------------\u001b[0m",
      "\u001b[0;31mNameError\u001b[0m                                 Traceback (most recent call last)",
      "\u001b[1;32m/Users/padmavenkatraman/Documents/StrongLensing/paltas/notebooks/lsst_exploration.ipynb Cell 31\u001b[0m line \u001b[0;36m2\n\u001b[1;32m      <a href='vscode-notebook-cell:/Users/padmavenkatraman/Documents/StrongLensing/paltas/notebooks/lsst_exploration.ipynb#X33sZmlsZQ%3D%3D?line=0'>1</a>\u001b[0m get_ipython()\u001b[39m.\u001b[39mrun_line_magic(\u001b[39m'\u001b[39m\u001b[39mmatplotlib\u001b[39m\u001b[39m'\u001b[39m, \u001b[39m'\u001b[39m\u001b[39minline\u001b[39m\u001b[39m'\u001b[39m)\n\u001b[0;32m----> <a href='vscode-notebook-cell:/Users/padmavenkatraman/Documents/StrongLensing/paltas/notebooks/lsst_exploration.ipynb#X33sZmlsZQ%3D%3D?line=1'>2</a>\u001b[0m visualization_utils\u001b[39m.\u001b[39mmatrix_plot_from_npy(picked_files,names\u001b[39m=\u001b[39mpicked_names,dim\u001b[39m=\u001b[39m(\u001b[39m3\u001b[39m,\u001b[39m8\u001b[39m),\n\u001b[1;32m      <a href='vscode-notebook-cell:/Users/padmavenkatraman/Documents/StrongLensing/paltas/notebooks/lsst_exploration.ipynb#X33sZmlsZQ%3D%3D?line=2'>3</a>\u001b[0m                                          save_name\u001b[39m=\u001b[39m\u001b[39m'\u001b[39m\u001b[39mlsst.png\u001b[39m\u001b[39m'\u001b[39m,stretch \u001b[39m=\u001b[39m \u001b[39m'\u001b[39m\u001b[39masinh\u001b[39m\u001b[39m'\u001b[39m,asinh_a \u001b[39m=\u001b[39m \u001b[39m0.1\u001b[39m,\n\u001b[1;32m      <a href='vscode-notebook-cell:/Users/padmavenkatraman/Documents/StrongLensing/paltas/notebooks/lsst_exploration.ipynb#X33sZmlsZQ%3D%3D?line=3'>4</a>\u001b[0m                                          annotate\u001b[39m=\u001b[39m\u001b[39mFalse\u001b[39;00m)\n\u001b[1;32m      <a href='vscode-notebook-cell:/Users/padmavenkatraman/Documents/StrongLensing/paltas/notebooks/lsst_exploration.ipynb#X33sZmlsZQ%3D%3D?line=4'>5</a>\u001b[0m plt\u001b[39m.\u001b[39mshow()\n\u001b[1;32m      <a href='vscode-notebook-cell:/Users/padmavenkatraman/Documents/StrongLensing/paltas/notebooks/lsst_exploration.ipynb#X33sZmlsZQ%3D%3D?line=5'>6</a>\u001b[0m \u001b[39m# visualization_utils.matrix_plot_from_npy(picked_files,names=picked_names,dim=(3,8),\u001b[39;00m\n\u001b[1;32m      <a href='vscode-notebook-cell:/Users/padmavenkatraman/Documents/StrongLensing/paltas/notebooks/lsst_exploration.ipynb#X33sZmlsZQ%3D%3D?line=6'>7</a>\u001b[0m \u001b[39m#                                          save_name='lsst.png',asinh_a = 0.1, max_cut = 70, annotate=True)\u001b[39;00m\n\u001b[1;32m      <a href='vscode-notebook-cell:/Users/padmavenkatraman/Documents/StrongLensing/paltas/notebooks/lsst_exploration.ipynb#X33sZmlsZQ%3D%3D?line=7'>8</a>\u001b[0m \u001b[39m# plt.show()\u001b[39;00m\n",
      "\u001b[0;31mNameError\u001b[0m: name 'picked_files' is not defined"
     ]
    }
   ],
   "source": [
    "%matplotlib inline\n",
    "visualization_utils.matrix_plot_from_npy(picked_files,names=picked_names,dim=(3,8),\n",
    "                                         save_name='lsst.png',stretch = 'asinh',asinh_a = 0.1,\n",
    "                                         annotate=False)\n",
    "plt.show()\n",
    "# visualization_utils.matrix_plot_from_npy(picked_files,names=picked_names,dim=(3,8),\n",
    "#                                          save_name='lsst.png',asinh_a = 0.1, max_cut = 70, annotate=True)\n",
    "# plt.show()"
   ]
  },
  {
   "cell_type": "code",
   "execution_count": null,
   "metadata": {},
   "outputs": [],
   "source": [
    "# weights = sorted(os.listdir('train_results/model_weights'))\n",
    "# losses = pd.read_csv('train_results/train.csv', index_col=0)\n",
    "# file_list_bad= []\n",
    "# num_files = len(weights)\n",
    "# for i in range (num_files):\n",
    "# # weights[0][-12:-8]\n",
    "#     print(weights[i])\n",
    "#     ind = int(weights[i][1:3])\n",
    "#     ls = float(weights[i][-12:-8])\n",
    "#     valloss = np.round(losses.loc[ind-1, 'val_loss'], 2)\n",
    "#     # print(type(valloss), type(ls))\n",
    "#     if not np.isclose(valloss,ls):\n",
    "#         print(ind, 'latest loss: ', valloss, 'loss_on_file: ', ls)\n",
    "#         file = f'train_results/model_weights/{weights[i]}'\n",
    "#         file_list_bad.append(file)"
   ]
  },
  {
   "cell_type": "code",
   "execution_count": null,
   "metadata": {},
   "outputs": [],
   "source": [
    "# losses = pd.read_csv('train_results/train.csv', index_col=0)\n",
    "# epochs = len(losses['val_loss'])\n",
    "# losses"
   ]
  },
  {
   "cell_type": "code",
   "execution_count": null,
   "metadata": {},
   "outputs": [],
   "source": [
    "# losses = pd.read_csv('train_results/train.csv', index_col=0)\n",
    "# epochs = losses.index\n",
    "# plt.plot(epochs, losses['loss'], label='Training Loss')\n",
    "# plt.plot(epochs, losses['val_loss'], label='Validation Loss')\n",
    "# plt.legend()\n",
    "# plt.title(\"Training Loss\")"
   ]
  },
  {
   "cell_type": "code",
   "execution_count": 6,
   "metadata": {},
   "outputs": [
    {
     "name": "stderr",
     "output_type": "stream",
     "text": [
      "/Users/padmavenkatraman/Documents/StrongLensing/silver/lib/python3.11/site-packages/numba/core/decorators.py:262: NumbaDeprecationWarning: numba.generated_jit is deprecated. Please see the documentation at: https://numba.readthedocs.io/en/stable/reference/deprecation.html#deprecation-of-generated-jit for more information and advice on a suitable replacement.\n",
      "  warnings.warn(msg, NumbaDeprecationWarning)\n"
     ]
    },
    {
     "name": "stdout",
     "output_type": "stream",
     "text": [
      "Checking for training data.\n",
      "TFRecord found at generated_images/no_lens/config_LSST/data.tfrecord\n",
      "Checking for validation data.\n",
      "TFRecord found at generated_images/no_lens_valid/config_LSST/data.tfrecord\n",
      "Checking for normalization csv\n",
      "Using input normalization found at generated_images/no_lens/config_LSST/norms.csv\n",
      "Initializing the model\n"
     ]
    },
    {
     "name": "stderr",
     "output_type": "stream",
     "text": [
      "/Users/padmavenkatraman/Documents/StrongLensing/paltas/paltas/Analysis/dataset_generation.py:310: UserWarning: No noise will be added\n",
      "  warnings.warn('No noise will be added')\n",
      "/Users/padmavenkatraman/Documents/StrongLensing/paltas/paltas/Analysis/dataset_generation.py:310: UserWarning: No noise will be added\n",
      "  warnings.warn('No noise will be added')\n",
      "WARNING:absl:At this time, the v2.11+ optimizer `tf.keras.optimizers.Adam` runs slowly on M1/M2 Macs, please use the legacy Keras optimizer instead, located at `tf.keras.optimizers.legacy.Adam`.\n",
      "WARNING:absl:There is a known slowdown when using v2.11+ Keras optimizers on M1/M2 Macs. Falling back to the legacy Keras optimizer, i.e., `tf.keras.optimizers.legacy.Adam`.\n"
     ]
    },
    {
     "name": "stdout",
     "output_type": "stream",
     "text": [
      "Is model built: True\n",
      "Loaded weights NLNORM/model_weights2/_49--1.21_last.h5\n",
      "Epoch 1/30\n",
      "390/390 [==============================] - ETA: 0s - loss: -2.3210"
     ]
    },
    {
     "name": "stderr",
     "output_type": "stream",
     "text": [
      "/Users/padmavenkatraman/Documents/StrongLensing/silver/lib/python3.11/site-packages/keras/src/engine/training.py:3000: UserWarning: You are saving your model as an HDF5 file via `model.save()`. This file format is considered legacy. We recommend using instead the native Keras format, e.g. `model.save('my_model.keras')`.\n",
      "  saving_api.save_model(\n"
     ]
    },
    {
     "name": "stdout",
     "output_type": "stream",
     "text": [
      "390/390 [==============================] - 819s 2s/step - loss: -2.3210 - val_loss: -1.6004\n",
      "Epoch 2/30\n",
      "390/390 [==============================] - 814s 2s/step - loss: -2.3387 - val_loss: -1.7135\n",
      "Epoch 3/30\n",
      "390/390 [==============================] - 818s 2s/step - loss: -2.3740 - val_loss: -1.6733\n",
      "Epoch 4/30\n",
      "390/390 [==============================] - 823s 2s/step - loss: -2.3788 - val_loss: -1.2254\n",
      "Epoch 5/30\n",
      "390/390 [==============================] - 830s 2s/step - loss: -2.4057 - val_loss: -1.7677\n",
      "Epoch 6/30\n",
      "390/390 [==============================] - 820s 2s/step - loss: -2.4112 - val_loss: -0.7369\n",
      "Epoch 7/30\n",
      "390/390 [==============================] - 813s 2s/step - loss: -2.4374 - val_loss: -1.1121\n",
      "Epoch 8/30\n",
      "390/390 [==============================] - 814s 2s/step - loss: -2.4413 - val_loss: -1.5717\n",
      "Epoch 9/30\n",
      "390/390 [==============================] - 814s 2s/step - loss: -2.3722 - val_loss: -1.2852\n",
      "Epoch 10/30\n",
      "390/390 [==============================] - 820s 2s/step - loss: -2.4639 - val_loss: -1.1108\n",
      "Epoch 11/30\n",
      "390/390 [==============================] - 824s 2s/step - loss: -2.4924 - val_loss: -1.6637\n",
      "Epoch 12/30\n",
      "390/390 [==============================] - 829s 2s/step - loss: -2.5098 - val_loss: -1.3399\n",
      "Epoch 13/30\n",
      "390/390 [==============================] - 825s 2s/step - loss: -2.5215 - val_loss: -1.5834\n",
      "Epoch 14/30\n",
      "390/390 [==============================] - 826s 2s/step - loss: -2.5278 - val_loss: -1.0452\n",
      "Epoch 15/30\n",
      "390/390 [==============================] - 827s 2s/step - loss: -2.5440 - val_loss: -0.6660\n",
      "Epoch 16/30\n",
      "390/390 [==============================] - 830s 2s/step - loss: -2.5509 - val_loss: -1.6234\n",
      "Epoch 17/30\n",
      "390/390 [==============================] - 828s 2s/step - loss: -2.5684 - val_loss: -0.9777\n",
      "Epoch 18/30\n",
      "390/390 [==============================] - 821s 2s/step - loss: -2.5723 - val_loss: -0.6774\n",
      "Epoch 19/30\n",
      "390/390 [==============================] - 822s 2s/step - loss: -2.5556 - val_loss: -1.8053\n",
      "Epoch 20/30\n",
      "390/390 [==============================] - 819s 2s/step - loss: -2.5747 - val_loss: -1.4172\n",
      "Epoch 21/30\n",
      "390/390 [==============================] - 823s 2s/step - loss: -2.6094 - val_loss: -0.7022\n",
      "Epoch 22/30\n",
      "390/390 [==============================] - 819s 2s/step - loss: -2.6080 - val_loss: -0.7099\n",
      "Epoch 23/30\n",
      "390/390 [==============================] - 816s 2s/step - loss: -2.6260 - val_loss: -1.8608\n",
      "Epoch 24/30\n",
      "390/390 [==============================] - 824s 2s/step - loss: -2.6339 - val_loss: -0.4848\n",
      "Epoch 25/30\n",
      "390/390 [==============================] - 833s 2s/step - loss: -2.6361 - val_loss: -0.6204\n",
      "Epoch 26/30\n",
      "390/390 [==============================] - 813s 2s/step - loss: -2.6396 - val_loss: -0.7864\n",
      "Epoch 27/30\n",
      "390/390 [==============================] - 824s 2s/step - loss: -2.6674 - val_loss: -1.7001\n",
      "Epoch 28/30\n",
      "390/390 [==============================] - 824s 2s/step - loss: -2.6739 - val_loss: -0.8362\n",
      "Epoch 29/30\n",
      "390/390 [==============================] - 827s 2s/step - loss: -2.6738 - val_loss: -0.8503\n",
      "Epoch 30/30\n",
      "390/390 [==============================] - 824s 2s/step - loss: -2.6709 - val_loss: -0.6928\n"
     ]
    },
    {
     "data": {
      "text/plain": [
       "0"
      ]
     },
     "execution_count": 6,
     "metadata": {},
     "output_type": "execute_result"
    }
   ],
   "source": [
    "os.system(command = f'python ../paltas/Analysis/train_model.py lsst_train.py --tensorboard_dir NLNORM')"
   ]
  },
  {
   "cell_type": "code",
   "execution_count": null,
   "metadata": {},
   "outputs": [],
   "source": []
  },
  {
   "cell_type": "code",
   "execution_count": null,
   "metadata": {},
   "outputs": [],
   "source": []
  }
 ],
 "metadata": {
  "kernelspec": {
   "display_name": "silver",
   "language": "python",
   "name": "python3"
  },
  "language_info": {
   "codemirror_mode": {
    "name": "ipython",
    "version": 3
   },
   "file_extension": ".py",
   "mimetype": "text/x-python",
   "name": "python",
   "nbconvert_exporter": "python",
   "pygments_lexer": "ipython3",
   "version": "3.11.4"
  },
  "orig_nbformat": 4
 },
 "nbformat": 4,
 "nbformat_minor": 2
}
